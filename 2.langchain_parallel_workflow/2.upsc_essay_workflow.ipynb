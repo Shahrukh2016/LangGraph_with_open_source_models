{
 "cells": [
  {
   "cell_type": "code",
   "execution_count": 2,
   "id": "e2108625",
   "metadata": {},
   "outputs": [],
   "source": [
    "## Importing required packages\n",
    "from langgraph.graph import StateGraph, START, END\n",
    "from typing import TypedDict\n",
    "\n",
    "from langchain_huggingface import HuggingFaceEndpoint, ChatHuggingFace\n",
    "from dotenv import load_dotenv\n",
    "\n",
    "from pydantic import BaseModel, Field"
   ]
  },
  {
   "cell_type": "code",
   "execution_count": 6,
   "id": "255d925d",
   "metadata": {},
   "outputs": [],
   "source": [
    "## Initiating the environment\n",
    "load_dotenv()\n",
    "\n",
    "## Defining and initiating llm\n",
    "llm = HuggingFaceEndpoint(\n",
    "    repo_id= 'meta-llama/Llama-3.3-70B-Instruct'\n",
    "    )\n",
    "\n",
    "model = ChatHuggingFace(llm = llm)\n",
    "\n",
    "## Instead of using lighter model - 'meta-llama/Llama-3.2-1B-Instruct', we are using the heavier model - 'meta-llama/Llama-3.3-70B-Instruct' as this only supports function calling for structured output."
   ]
  },
  {
   "cell_type": "code",
   "execution_count": 7,
   "id": "04566187",
   "metadata": {},
   "outputs": [],
   "source": [
    "## To get the structuree output from the model, we need to define a schema and pass it to the model so that it can understand\n",
    "class EvaluationSchema(BaseModel):\n",
    "    feedback: str = Field(description= 'Detailed feedback for the essay')\n",
    "    score: int =  Field(description= 'Score out of 10', ge=0, le=10)"
   ]
  },
  {
   "cell_type": "code",
   "execution_count": 9,
   "id": "17de12c2",
   "metadata": {},
   "outputs": [
    {
     "ename": "NotImplementedError",
     "evalue": "Pydantic schema is not supported for function calling",
     "output_type": "error",
     "traceback": [
      "\u001b[31m---------------------------------------------------------------------------\u001b[39m",
      "\u001b[31mNotImplementedError\u001b[39m                       Traceback (most recent call last)",
      "\u001b[36mCell\u001b[39m\u001b[36m \u001b[39m\u001b[32mIn[9]\u001b[39m\u001b[32m, line 2\u001b[39m\n\u001b[32m      1\u001b[39m \u001b[38;5;66;03m## Defining structured output model\u001b[39;00m\n\u001b[32m----> \u001b[39m\u001b[32m2\u001b[39m structured_model = \u001b[43mmodel\u001b[49m\u001b[43m.\u001b[49m\u001b[43mwith_structured_output\u001b[49m\u001b[43m(\u001b[49m\u001b[43mEvaluationSchema\u001b[49m\u001b[43m)\u001b[49m\n",
      "\u001b[36mFile \u001b[39m\u001b[32mc:\\Users\\DELL\\Desktop\\LangGraph\\myenv\\Lib\\site-packages\\langchain_huggingface\\chat_models\\huggingface.py:941\u001b[39m, in \u001b[36mChatHuggingFace.with_structured_output\u001b[39m\u001b[34m(self, schema, method, include_raw, **kwargs)\u001b[39m\n\u001b[32m    939\u001b[39m     \u001b[38;5;28;01mif\u001b[39;00m is_pydantic_schema:\n\u001b[32m    940\u001b[39m         msg = \u001b[33m\"\u001b[39m\u001b[33mPydantic schema is not supported for function calling\u001b[39m\u001b[33m\"\u001b[39m\n\u001b[32m--> \u001b[39m\u001b[32m941\u001b[39m         \u001b[38;5;28;01mraise\u001b[39;00m \u001b[38;5;167;01mNotImplementedError\u001b[39;00m(msg)\n\u001b[32m    942\u001b[39m     output_parser: Union[JsonOutputKeyToolsParser, JsonOutputParser] = (\n\u001b[32m    943\u001b[39m         JsonOutputKeyToolsParser(key_name=tool_name, first_tool_only=\u001b[38;5;28;01mTrue\u001b[39;00m)\n\u001b[32m    944\u001b[39m     )\n\u001b[32m    945\u001b[39m \u001b[38;5;28;01melif\u001b[39;00m method == \u001b[33m\"\u001b[39m\u001b[33mjson_schema\u001b[39m\u001b[33m\"\u001b[39m:\n",
      "\u001b[31mNotImplementedError\u001b[39m: Pydantic schema is not supported for function calling"
     ]
    }
   ],
   "source": [
    "## Defining structured output model\n",
    "structured_model = model.with_structured_output(EvaluationSchema)"
   ]
  },
  {
   "cell_type": "code",
   "execution_count": null,
   "id": "9f5c1cb2",
   "metadata": {},
   "outputs": [],
   "source": []
  }
 ],
 "metadata": {
  "kernelspec": {
   "display_name": "myenv",
   "language": "python",
   "name": "python3"
  },
  "language_info": {
   "codemirror_mode": {
    "name": "ipython",
    "version": 3
   },
   "file_extension": ".py",
   "mimetype": "text/x-python",
   "name": "python",
   "nbconvert_exporter": "python",
   "pygments_lexer": "ipython3",
   "version": "3.11.9"
  }
 },
 "nbformat": 4,
 "nbformat_minor": 5
}

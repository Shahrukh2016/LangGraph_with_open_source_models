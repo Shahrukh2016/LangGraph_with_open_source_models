{
 "cells": [
  {
   "cell_type": "code",
   "execution_count": 1,
   "id": "06f29774",
   "metadata": {},
   "outputs": [],
   "source": [
    "## Importing required packages\n",
    "from langgraph.graph import StateGraph, START, END\n",
    "from langchain_core.messages import SystemMessage, HumanMessage, AIMessage, ToolMessage, BaseMessage\n",
    "from typing import TypedDict, Annotated, Literal\n",
    "\n",
    "from langchain_huggingface import HuggingFaceEndpoint, ChatHuggingFace\n",
    "from langchain_perplexity import ChatPerplexity\n",
    "from dotenv import load_dotenv\n",
    "\n",
    "from pydantic import BaseModel, Field\n",
    "from langgraph.graph import add_messages\n",
    "import operator\n",
    "\n",
    "import os\n",
    "import time\n",
    "\n",
    "## Libraries to retain memory\n",
    "from langgraph.checkpoint.memory import InMemorySaver"
   ]
  },
  {
   "cell_type": "code",
   "execution_count": 2,
   "id": "1e0d565b",
   "metadata": {},
   "outputs": [],
   "source": [
    "## Initiating the environment\n",
    "load_dotenv()\n",
    "\n",
    "## Defining and initiating llm\n",
    "model = ChatPerplexity(model= 'sonar', api_key= os.getenv(\"PERPLEXITY_API_KEY\"))"
   ]
  },
  {
   "cell_type": "code",
   "execution_count": 3,
   "id": "410582c4",
   "metadata": {},
   "outputs": [],
   "source": [
    "## Defining state\n",
    "class JokeState(TypedDict):\n",
    "    topic: str\n",
    "    joke: str\n",
    "    explanation: str"
   ]
  },
  {
   "cell_type": "code",
   "execution_count": 4,
   "id": "bff0d318",
   "metadata": {},
   "outputs": [],
   "source": [
    "## Defining funtions that needs to be executed while invoking graph\n",
    "def generate_joke(state: JokeState):\n",
    "\n",
    "    prompt = f'generate a joke on the topic {state[\"topic\"]}'\n",
    "    response = model.invoke(prompt).content\n",
    "\n",
    "    return {'joke': response}\n",
    "def generate_explanation(state: JokeState):\n",
    "\n",
    "    prompt = f'write an explanation for the joke - {state[\"joke\"]}'\n",
    "    response = model.invoke(prompt).content\n",
    "\n",
    "    return {'explanation': response}"
   ]
  },
  {
   "cell_type": "code",
   "execution_count": 5,
   "id": "99e2c183",
   "metadata": {},
   "outputs": [],
   "source": [
    "## Defining graph\n",
    "graph = StateGraph(JokeState)\n",
    "\n",
    "## Add nodes\n",
    "graph.add_node('generate_joke', generate_joke)\n",
    "graph.add_node('generate_explanation', generate_explanation)\n",
    "\n",
    "## Add edges\n",
    "graph.add_edge(START, 'generate_joke')\n",
    "graph.add_edge('generate_joke', 'generate_explanation')\n",
    "graph.add_edge('generate_explanation', END)\n",
    "\n",
    "## Add check pointers\n",
    "checkpointer = InMemorySaver()\n",
    "\n",
    "## Compiling workflow\n",
    "workflow = graph.compile(checkpointer=checkpointer)"
   ]
  },
  {
   "cell_type": "code",
   "execution_count": 6,
   "id": "fe5617d4",
   "metadata": {},
   "outputs": [
    {
     "data": {
      "image/png": "[encoded data removed]",
      "text/plain": [
       "<langgraph.graph.state.CompiledStateGraph object at 0x000001E5C2E9C210>"
      ]
     },
     "execution_count": 6,
     "metadata": {},
     "output_type": "execute_result"
    }
   ],
   "source": [
    "## Visualize the graph\n",
    "workflow"
   ]
  },
  {
   "cell_type": "code",
   "execution_count": 7,
   "id": "b57b0028",
   "metadata": {},
   "outputs": [
    {
     "name": "stdout",
     "output_type": "stream",
     "text": [
      "{'topic': 'pizza', 'joke': 'Here\\'s a pizza joke for you:\\n\\n**Why did the pizza go to therapy?**\\n\\nBecause it was feeling a little crusty!\\n\\nThis joke plays on the word \"crusty,\" which can refer to both the crust of a pizza and someone feeling grumpy or irritable.', 'explanation': 'The joke \"Why did the pizza go to therapy? Because it was feeling a little crusty!\" works by playing on the double meaning of the word **\"crusty.\"** \\n\\n**Crusty** literally refers to the **crust of a pizza**, the outer baked edge that is firm and sometimes crunchy. However, in everyday language, **\"crusty\"** can also describe a person who is **grumpy, irritable, or emotionally rough**. The humor comes from imagining a pizza—an inanimate object—having feelings and going to therapy because it feels emotionally \"crusty,\" blending the literal and figurative meanings of the word.\\n\\nThis joke cleverly uses this wordplay to create a light-hearted, relatable connection between food and human emotions, making it funny and easy to understand[1].'}\n"
     ]
    }
   ],
   "source": [
    "## Setting up the configuration and invoking the graph\n",
    "config1 = {\"configurable\": {\"thread_id\": \"1\"}}\n",
    "initial_state = {'topic' : 'pizza'}\n",
    "final_state = workflow.invoke(initial_state, config= config1)\n",
    "print(final_state)"
   ]
  },
  {
   "cell_type": "code",
   "execution_count": 8,
   "id": "b3dda5a1",
   "metadata": {},
   "outputs": [
    {
     "data": {
      "text/plain": [
       "StateSnapshot(values={'topic': 'pizza', 'joke': 'Here\\'s a pizza joke for you:\\n\\n**Why did the pizza go to therapy?**\\n\\nBecause it was feeling a little crusty!\\n\\nThis joke plays on the word \"crusty,\" which can refer to both the crust of a pizza and someone feeling grumpy or irritable.', 'explanation': 'The joke \"Why did the pizza go to therapy? Because it was feeling a little crusty!\" works by playing on the double meaning of the word **\"crusty.\"** \\n\\n**Crusty** literally refers to the **crust of a pizza**, the outer baked edge that is firm and sometimes crunchy. However, in everyday language, **\"crusty\"** can also describe a person who is **grumpy, irritable, or emotionally rough**. The humor comes from imagining a pizza—an inanimate object—having feelings and going to therapy because it feels emotionally \"crusty,\" blending the literal and figurative meanings of the word.\\n\\nThis joke cleverly uses this wordplay to create a light-hearted, relatable connection between food and human emotions, making it funny and easy to understand[1].'}, next=(), config={'configurable': {'thread_id': '1', 'checkpoint_ns': '', 'checkpoint_id': '1f081254-8082-6c52-8002-e8bc9c734fb1'}}, metadata={'source': 'loop', 'step': 2, 'parents': {}}, created_at='2025-08-24T20:02:37.075361+00:00', parent_config={'configurable': {'thread_id': '1', 'checkpoint_ns': '', 'checkpoint_id': '1f081254-46be-6ce0-8001-7cd2072fed11'}}, tasks=(), interrupts=())"
      ]
     },
     "execution_count": 8,
     "metadata": {},
     "output_type": "execute_result"
    }
   ],
   "source": [
    "## 1. Checking final state\n",
    "workflow.get_state(config= config1)"
   ]
  },
  {
   "cell_type": "code",
   "execution_count": 9,
   "id": "a01203f3",
   "metadata": {},
   "outputs": [
    {
     "data": {
      "text/plain": [
       "[StateSnapshot(values={'topic': 'pizza', 'joke': 'Here\\'s a pizza joke for you:\\n\\n**Why did the pizza go to therapy?**\\n\\nBecause it was feeling a little crusty!\\n\\nThis joke plays on the word \"crusty,\" which can refer to both the crust of a pizza and someone feeling grumpy or irritable.', 'explanation': 'The joke \"Why did the pizza go to therapy? Because it was feeling a little crusty!\" works by playing on the double meaning of the word **\"crusty.\"** \\n\\n**Crusty** literally refers to the **crust of a pizza**, the outer baked edge that is firm and sometimes crunchy. However, in everyday language, **\"crusty\"** can also describe a person who is **grumpy, irritable, or emotionally rough**. The humor comes from imagining a pizza—an inanimate object—having feelings and going to therapy because it feels emotionally \"crusty,\" blending the literal and figurative meanings of the word.\\n\\nThis joke cleverly uses this wordplay to create a light-hearted, relatable connection between food and human emotions, making it funny and easy to understand[1].'}, next=(), config={'configurable': {'thread_id': '1', 'checkpoint_ns': '', 'checkpoint_id': '1f081254-8082-6c52-8002-e8bc9c734fb1'}}, metadata={'source': 'loop', 'step': 2, 'parents': {}}, created_at='2025-08-24T20:02:37.075361+00:00', parent_config={'configurable': {'thread_id': '1', 'checkpoint_ns': '', 'checkpoint_id': '1f081254-46be-6ce0-8001-7cd2072fed11'}}, tasks=(), interrupts=()),\n",
       " StateSnapshot(values={'topic': 'pizza', 'joke': 'Here\\'s a pizza joke for you:\\n\\n**Why did the pizza go to therapy?**\\n\\nBecause it was feeling a little crusty!\\n\\nThis joke plays on the word \"crusty,\" which can refer to both the crust of a pizza and someone feeling grumpy or irritable.'}, next=('generate_explanation',), config={'configurable': {'thread_id': '1', 'checkpoint_ns': '', 'checkpoint_id': '1f081254-46be-6ce0-8001-7cd2072fed11'}}, metadata={'source': 'loop', 'step': 1, 'parents': {}}, created_at='2025-08-24T20:02:31.017989+00:00', parent_config={'configurable': {'thread_id': '1', 'checkpoint_ns': '', 'checkpoint_id': '1f081254-1fc0-62c0-8000-9dae4f936476'}}, tasks=(PregelTask(id='f86b0357-a5dc-0e86-b7f2-1483a495ad4f', name='generate_explanation', path=('__pregel_pull', 'generate_explanation'), error=None, interrupts=(), state=None, result={'explanation': 'The joke \"Why did the pizza go to therapy? Because it was feeling a little crusty!\" works by playing on the double meaning of the word **\"crusty.\"** \\n\\n**Crusty** literally refers to the **crust of a pizza**, the outer baked edge that is firm and sometimes crunchy. However, in everyday language, **\"crusty\"** can also describe a person who is **grumpy, irritable, or emotionally rough**. The humor comes from imagining a pizza—an inanimate object—having feelings and going to therapy because it feels emotionally \"crusty,\" blending the literal and figurative meanings of the word.\\n\\nThis joke cleverly uses this wordplay to create a light-hearted, relatable connection between food and human emotions, making it funny and easy to understand[1].'}),), interrupts=()),\n",
       " StateSnapshot(values={'topic': 'pizza'}, next=('generate_joke',), config={'configurable': {'thread_id': '1', 'checkpoint_ns': '', 'checkpoint_id': '1f081254-1fc0-62c0-8000-9dae4f936476'}}, metadata={'source': 'loop', 'step': 0, 'parents': {}}, created_at='2025-08-24T20:02:26.928625+00:00', parent_config={'configurable': {'thread_id': '1', 'checkpoint_ns': '', 'checkpoint_id': '1f081254-1f99-6b2b-bfff-ce504b1f96fe'}}, tasks=(PregelTask(id='f5895130-7458-e6df-f962-039cc2f28f12', name='generate_joke', path=('__pregel_pull', 'generate_joke'), error=None, interrupts=(), state=None, result={'joke': 'Here\\'s a pizza joke for you:\\n\\n**Why did the pizza go to therapy?**\\n\\nBecause it was feeling a little crusty!\\n\\nThis joke plays on the word \"crusty,\" which can refer to both the crust of a pizza and someone feeling grumpy or irritable.'}),), interrupts=()),\n",
       " StateSnapshot(values={}, next=('__start__',), config={'configurable': {'thread_id': '1', 'checkpoint_ns': '', 'checkpoint_id': '1f081254-1f99-6b2b-bfff-ce504b1f96fe'}}, metadata={'source': 'input', 'step': -1, 'parents': {}}, created_at='2025-08-24T20:02:26.913565+00:00', parent_config=None, tasks=(PregelTask(id='2fe497ea-cd2b-6509-0c82-cee67b30bbe6', name='__start__', path=('__pregel_pull', '__start__'), error=None, interrupts=(), state=None, result={'topic': 'pizza'}),), interrupts=())]"
      ]
     },
     "execution_count": 9,
     "metadata": {},
     "output_type": "execute_result"
    }
   ],
   "source": [
    "## 1. Checking partial states\n",
    "list(workflow.get_state_history(config= config1))"
   ]
  },
  {
   "cell_type": "markdown",
   "id": "2cf6487c",
   "metadata": {},
   "source": [
    "Cool, new lets invoke another joke and check the functionality of thread_id in Persistence."
   ]
  },
  {
   "cell_type": "code",
   "execution_count": 10,
   "id": "e08ef9ae",
   "metadata": {},
   "outputs": [
    {
     "name": "stdout",
     "output_type": "stream",
     "text": [
      "{'topic': 'dosa', 'joke': 'Here is a dosa joke for you:\\n\\n**Why did the dosai get a perm?**  \\nBecause it wanted to be a fancy crepe![1]  \\n\\nThis joke plays on the similarity between dosai (a type of Indian crepe) and a crepe, adding humor with the idea of the dosa getting a hairstyle like a perm.', 'explanation': 'The joke \"Why did the dosai get a perm? Because it wanted to be a fancy crepe!\" plays on the double meaning of the word \"crepe.\" \\n\\nA **dosai (or dosa)** is a type of thin, savory Indian crepe made from fermented rice and lentil batter, known for its crispy and slightly spongy texture[1][4]. The word \"crepe\" here refers to the food item, a thin pancake-like dish.\\n\\nThe humor arises because \"perm\" is a hairstyle that makes hair curly or wavy, often considered a \"fancy\" or stylized look. By saying the dosai got a perm, the joke imagines the dosa as if it were a person wanting to change its appearance to become a \"fancy crepe,\" playing on the idea of both types of crepes (food) and the word \"crepe\" sounding like \"crêpe,\" a thin French pancake, which is often viewed as more delicate or fancy compared to a dosa.\\n\\nSo the joke combines food culture with a pun on hairstyling terminology, anthropomorphizing the dosa to create a playful and unexpected twist[1].'}\n"
     ]
    }
   ],
   "source": [
    "## Setting up the configuration and invoking the graph for another topic\n",
    "config2 = {\"configurable\": {\"thread_id\": \"2\"}}\n",
    "initial_state = {'topic' : 'dosa'}\n",
    "final_state = workflow.invoke(initial_state, config= config2)\n",
    "print(final_state)"
   ]
  },
  {
   "cell_type": "code",
   "execution_count": 11,
   "id": "9cb05e5a",
   "metadata": {},
   "outputs": [
    {
     "data": {
      "text/plain": [
       "StateSnapshot(values={'topic': 'dosa', 'joke': 'Here is a dosa joke for you:\\n\\n**Why did the dosai get a perm?**  \\nBecause it wanted to be a fancy crepe![1]  \\n\\nThis joke plays on the similarity between dosai (a type of Indian crepe) and a crepe, adding humor with the idea of the dosa getting a hairstyle like a perm.', 'explanation': 'The joke \"Why did the dosai get a perm? Because it wanted to be a fancy crepe!\" plays on the double meaning of the word \"crepe.\" \\n\\nA **dosai (or dosa)** is a type of thin, savory Indian crepe made from fermented rice and lentil batter, known for its crispy and slightly spongy texture[1][4]. The word \"crepe\" here refers to the food item, a thin pancake-like dish.\\n\\nThe humor arises because \"perm\" is a hairstyle that makes hair curly or wavy, often considered a \"fancy\" or stylized look. By saying the dosai got a perm, the joke imagines the dosa as if it were a person wanting to change its appearance to become a \"fancy crepe,\" playing on the idea of both types of crepes (food) and the word \"crepe\" sounding like \"crêpe,\" a thin French pancake, which is often viewed as more delicate or fancy compared to a dosa.\\n\\nSo the joke combines food culture with a pun on hairstyling terminology, anthropomorphizing the dosa to create a playful and unexpected twist[1].'}, next=(), config={'configurable': {'thread_id': '2', 'checkpoint_ns': '', 'checkpoint_id': '1f081254-d27f-6a17-8002-a8e44f9cfb1d'}}, metadata={'source': 'loop', 'step': 2, 'parents': {}}, created_at='2025-08-24T20:02:45.672399+00:00', parent_config={'configurable': {'thread_id': '2', 'checkpoint_ns': '', 'checkpoint_id': '1f081254-a2b6-6137-8001-e4f0e18cc5fe'}}, tasks=(), interrupts=())"
      ]
     },
     "execution_count": 11,
     "metadata": {},
     "output_type": "execute_result"
    }
   ],
   "source": [
    "## 1. Checking final state thread_id 2\n",
    "workflow.get_state(config= config2)"
   ]
  },
  {
   "cell_type": "code",
   "execution_count": 12,
   "id": "1ba07082",
   "metadata": {},
   "outputs": [
    {
     "data": {
      "text/plain": [
       "[StateSnapshot(values={'topic': 'dosa', 'joke': 'Here is a dosa joke for you:\\n\\n**Why did the dosai get a perm?**  \\nBecause it wanted to be a fancy crepe![1]  \\n\\nThis joke plays on the similarity between dosai (a type of Indian crepe) and a crepe, adding humor with the idea of the dosa getting a hairstyle like a perm.', 'explanation': 'The joke \"Why did the dosai get a perm? Because it wanted to be a fancy crepe!\" plays on the double meaning of the word \"crepe.\" \\n\\nA **dosai (or dosa)** is a type of thin, savory Indian crepe made from fermented rice and lentil batter, known for its crispy and slightly spongy texture[1][4]. The word \"crepe\" here refers to the food item, a thin pancake-like dish.\\n\\nThe humor arises because \"perm\" is a hairstyle that makes hair curly or wavy, often considered a \"fancy\" or stylized look. By saying the dosai got a perm, the joke imagines the dosa as if it were a person wanting to change its appearance to become a \"fancy crepe,\" playing on the idea of both types of crepes (food) and the word \"crepe\" sounding like \"crêpe,\" a thin French pancake, which is often viewed as more delicate or fancy compared to a dosa.\\n\\nSo the joke combines food culture with a pun on hairstyling terminology, anthropomorphizing the dosa to create a playful and unexpected twist[1].'}, next=(), config={'configurable': {'thread_id': '2', 'checkpoint_ns': '', 'checkpoint_id': '1f081254-d27f-6a17-8002-a8e44f9cfb1d'}}, metadata={'source': 'loop', 'step': 2, 'parents': {}}, created_at='2025-08-24T20:02:45.672399+00:00', parent_config={'configurable': {'thread_id': '2', 'checkpoint_ns': '', 'checkpoint_id': '1f081254-a2b6-6137-8001-e4f0e18cc5fe'}}, tasks=(), interrupts=()),\n",
       " StateSnapshot(values={'topic': 'dosa', 'joke': 'Here is a dosa joke for you:\\n\\n**Why did the dosai get a perm?**  \\nBecause it wanted to be a fancy crepe![1]  \\n\\nThis joke plays on the similarity between dosai (a type of Indian crepe) and a crepe, adding humor with the idea of the dosa getting a hairstyle like a perm.'}, next=('generate_explanation',), config={'configurable': {'thread_id': '2', 'checkpoint_ns': '', 'checkpoint_id': '1f081254-a2b6-6137-8001-e4f0e18cc5fe'}}, metadata={'source': 'loop', 'step': 1, 'parents': {}}, created_at='2025-08-24T20:02:40.661535+00:00', parent_config={'configurable': {'thread_id': '2', 'checkpoint_ns': '', 'checkpoint_id': '1f081254-81f7-6ecd-8000-c23798cddea7'}}, tasks=(PregelTask(id='67d641de-3f6a-9722-4ed3-84359472c599', name='generate_explanation', path=('__pregel_pull', 'generate_explanation'), error=None, interrupts=(), state=None, result={'explanation': 'The joke \"Why did the dosai get a perm? Because it wanted to be a fancy crepe!\" plays on the double meaning of the word \"crepe.\" \\n\\nA **dosai (or dosa)** is a type of thin, savory Indian crepe made from fermented rice and lentil batter, known for its crispy and slightly spongy texture[1][4]. The word \"crepe\" here refers to the food item, a thin pancake-like dish.\\n\\nThe humor arises because \"perm\" is a hairstyle that makes hair curly or wavy, often considered a \"fancy\" or stylized look. By saying the dosai got a perm, the joke imagines the dosa as if it were a person wanting to change its appearance to become a \"fancy crepe,\" playing on the idea of both types of crepes (food) and the word \"crepe\" sounding like \"crêpe,\" a thin French pancake, which is often viewed as more delicate or fancy compared to a dosa.\\n\\nSo the joke combines food culture with a pun on hairstyling terminology, anthropomorphizing the dosa to create a playful and unexpected twist[1].'}),), interrupts=()),\n",
       " StateSnapshot(values={'topic': 'dosa'}, next=('generate_joke',), config={'configurable': {'thread_id': '2', 'checkpoint_ns': '', 'checkpoint_id': '1f081254-81f7-6ecd-8000-c23798cddea7'}}, metadata={'source': 'loop', 'step': 0, 'parents': {}}, created_at='2025-08-24T20:02:37.228206+00:00', parent_config={'configurable': {'thread_id': '2', 'checkpoint_ns': '', 'checkpoint_id': '1f081254-81db-65ea-bfff-511b5607c4f0'}}, tasks=(PregelTask(id='1fd70fe4-bab7-bdb9-77d1-bef927ffd52c', name='generate_joke', path=('__pregel_pull', 'generate_joke'), error=None, interrupts=(), state=None, result={'joke': 'Here is a dosa joke for you:\\n\\n**Why did the dosai get a perm?**  \\nBecause it wanted to be a fancy crepe![1]  \\n\\nThis joke plays on the similarity between dosai (a type of Indian crepe) and a crepe, adding humor with the idea of the dosa getting a hairstyle like a perm.'}),), interrupts=()),\n",
       " StateSnapshot(values={}, next=('__start__',), config={'configurable': {'thread_id': '2', 'checkpoint_ns': '', 'checkpoint_id': '1f081254-81db-65ea-bfff-511b5607c4f0'}}, metadata={'source': 'input', 'step': -1, 'parents': {}}, created_at='2025-08-24T20:02:37.216509+00:00', parent_config=None, tasks=(PregelTask(id='8e0b77ad-8bf7-26c6-87ac-1c55cd0e102b', name='__start__', path=('__pregel_pull', '__start__'), error=None, interrupts=(), state=None, result={'topic': 'dosa'}),), interrupts=())]"
      ]
     },
     "execution_count": 12,
     "metadata": {},
     "output_type": "execute_result"
    }
   ],
   "source": [
    "## 1. Checking partial states of thread_id 2\n",
    "list(workflow.get_state_history(config= config2))"
   ]
  },
  {
   "cell_type": "markdown",
   "id": "8bc89eb0",
   "metadata": {},
   "source": [
    "#### Time Travel"
   ]
  },
  {
   "cell_type": "code",
   "execution_count": 15,
   "id": "cfe278ff",
   "metadata": {},
   "outputs": [
    {
     "data": {
      "text/plain": [
       "StateSnapshot(values={'topic': 'dosa'}, next=('generate_joke',), config={'configurable': {'thread_id': '2', 'checkpoint_id': '1f081254-81f7-6ecd-8000-c23798cddea7'}}, metadata={'source': 'loop', 'step': 0, 'parents': {}}, created_at='2025-08-24T20:02:37.228206+00:00', parent_config={'configurable': {'thread_id': '2', 'checkpoint_ns': '', 'checkpoint_id': '1f081254-81db-65ea-bfff-511b5607c4f0'}}, tasks=(PregelTask(id='1fd70fe4-bab7-bdb9-77d1-bef927ffd52c', name='generate_joke', path=('__pregel_pull', 'generate_joke'), error=None, interrupts=(), state=None, result={'joke': 'Here is a dosa joke for you:\\n\\n**Why did the dosai get a perm?**  \\nBecause it wanted to be a fancy crepe![1]  \\n\\nThis joke plays on the similarity between dosai (a type of Indian crepe) and a crepe, adding humor with the idea of the dosa getting a hairstyle like a perm.'}),), interrupts=())"
      ]
     },
     "execution_count": 15,
     "metadata": {},
     "output_type": "execute_result"
    }
   ],
   "source": [
    "workflow.get_state({\"configurable\": {\"thread_id\": \"2\", \"checkpoint_id\": \"1f081254-81f7-6ecd-8000-c23798cddea7\"}})"
   ]
  },
  {
   "cell_type": "code",
   "execution_count": 17,
   "id": "6c71d222",
   "metadata": {},
   "outputs": [
    {
     "data": {
      "text/plain": [
       "{'topic': 'dosa',\n",
       " 'joke': 'Why did the dosa go to therapy? Because it couldn’t stop flipping out![1]  \\n\\nOr another one: Why did the dosai get a perm? Because it wanted to be a fancy crepe![1]  \\n\\nThese jokes play on dosa’s signature thin, crispy, and foldable nature, making light of its cooking style and form.',\n",
       " 'explanation': 'The jokes play on the unique characteristics of dosa as a thin, foldable, and crispy crepe in Indian cuisine. \\n\\n1. **\"Why did the dosa go to therapy? Because it couldn’t stop flipping out!\"**  \\nThis joke humorously anthropomorphizes the dosa, referring to the cooking process where the dosa batter is spread thin on a griddle and then \"flipped\" to cook evenly on both sides. The phrase \"flipping out\" is a pun here, meaning both the dosa physically flipping on the pan and the common expression for losing control emotionally, hence the dosa needing therapy[1][4].\\n\\n2. **\"Why did the dosai get a perm? Because it wanted to be a fancy crepe!\"**  \\nThis joke plays on the fact that dosa resembles a crepe, a thin European pancake often associated with elegance or \"fanciness.\" A \"perm\" is a hairstyle that adds curls or waves, so giving a dosa a \"perm\" imagines it getting curly or fancy like a crepe might be stylized, poking fun at the dosa’s simple, flat form compared to a \"fancy\" crepe[1].\\n\\nBoth jokes rely on the dosa’s physical features—thin, foldable, and cooked by flipping—and Indian cultural familiarity with the dosa as a beloved, staple crepe-like dish made from fermented rice and lentils batter[1][4][5]. The humor comes from blending culinary facts with playful wordplay on dosa’s cooking style and shape.'}"
      ]
     },
     "execution_count": 17,
     "metadata": {},
     "output_type": "execute_result"
    }
   ],
   "source": [
    "workflow.invoke(None, {\"configurable\": {\"thread_id\": \"2\", \"checkpoint_id\": \"1f081254-81f7-6ecd-8000-c23798cddea7\"}})"
   ]
  },
  {
   "cell_type": "markdown",
   "id": "8efc07dd",
   "metadata": {},
   "source": [
    "#### Updating State"
   ]
  },
  {
   "cell_type": "code",
   "execution_count": 19,
   "id": "e7b69424",
   "metadata": {},
   "outputs": [
    {
     "data": {
      "text/plain": [
       "{'configurable': {'thread_id': '2',\n",
       "  'checkpoint_ns': '',\n",
       "  'checkpoint_id': '1f081258-04df-631d-8001-deccbdcab2f3'}}"
      ]
     },
     "execution_count": 19,
     "metadata": {},
     "output_type": "execute_result"
    }
   ],
   "source": [
    "workflow.update_state({\"configurable\": {\"thread_id\": \"2\", \"checkpoint_id\": \"1f081254-81f7-6ecd-8000-c23798cddea7\", \"checkpoint_ns\": \"\"}}, {'topic':'samosa'})\n"
   ]
  },
  {
   "cell_type": "code",
   "execution_count": 20,
   "id": "851da8f0",
   "metadata": {},
   "outputs": [
    {
     "data": {
      "text/plain": [
       "[StateSnapshot(values={'topic': 'samosa'}, next=('generate_joke',), config={'configurable': {'thread_id': '2', 'checkpoint_ns': '', 'checkpoint_id': '1f081258-04df-631d-8001-deccbdcab2f3'}}, metadata={'source': 'update', 'step': 1, 'parents': {}}, created_at='2025-08-24T20:04:11.485058+00:00', parent_config={'configurable': {'thread_id': '2', 'checkpoint_ns': '', 'checkpoint_id': '1f081254-81f7-6ecd-8000-c23798cddea7'}}, tasks=(PregelTask(id='6706008a-47b8-b74f-48a3-23a57274536c', name='generate_joke', path=('__pregel_pull', 'generate_joke'), error=None, interrupts=(), state=None, result=None),), interrupts=()),\n",
       " StateSnapshot(values={'topic': 'dosa', 'joke': 'Why did the dosa go to therapy? Because it couldn’t stop flipping out![1]  \\n\\nOr another one: Why did the dosai get a perm? Because it wanted to be a fancy crepe![1]  \\n\\nThese jokes play on dosa’s signature thin, crispy, and foldable nature, making light of its cooking style and form.', 'explanation': 'The jokes play on the unique characteristics of dosa as a thin, foldable, and crispy crepe in Indian cuisine. \\n\\n1. **\"Why did the dosa go to therapy? Because it couldn’t stop flipping out!\"**  \\nThis joke humorously anthropomorphizes the dosa, referring to the cooking process where the dosa batter is spread thin on a griddle and then \"flipped\" to cook evenly on both sides. The phrase \"flipping out\" is a pun here, meaning both the dosa physically flipping on the pan and the common expression for losing control emotionally, hence the dosa needing therapy[1][4].\\n\\n2. **\"Why did the dosai get a perm? Because it wanted to be a fancy crepe!\"**  \\nThis joke plays on the fact that dosa resembles a crepe, a thin European pancake often associated with elegance or \"fanciness.\" A \"perm\" is a hairstyle that adds curls or waves, so giving a dosa a \"perm\" imagines it getting curly or fancy like a crepe might be stylized, poking fun at the dosa’s simple, flat form compared to a \"fancy\" crepe[1].\\n\\nBoth jokes rely on the dosa’s physical features—thin, foldable, and cooked by flipping—and Indian cultural familiarity with the dosa as a beloved, staple crepe-like dish made from fermented rice and lentils batter[1][4][5]. The humor comes from blending culinary facts with playful wordplay on dosa’s cooking style and shape.'}, next=(), config={'configurable': {'thread_id': '2', 'checkpoint_ns': '', 'checkpoint_id': '1f081256-90f8-6ef6-8002-55b7a9d40cd6'}}, metadata={'source': 'loop', 'step': 2, 'parents': {}}, created_at='2025-08-24T20:03:32.488575+00:00', parent_config={'configurable': {'thread_id': '2', 'checkpoint_ns': '', 'checkpoint_id': '1f081256-5c65-66ee-8001-4be290e6b427'}}, tasks=(), interrupts=()),\n",
       " StateSnapshot(values={'topic': 'dosa', 'joke': 'Why did the dosa go to therapy? Because it couldn’t stop flipping out![1]  \\n\\nOr another one: Why did the dosai get a perm? Because it wanted to be a fancy crepe![1]  \\n\\nThese jokes play on dosa’s signature thin, crispy, and foldable nature, making light of its cooking style and form.'}, next=('generate_explanation',), config={'configurable': {'thread_id': '2', 'checkpoint_ns': '', 'checkpoint_id': '1f081256-5c65-66ee-8001-4be290e6b427'}}, metadata={'source': 'loop', 'step': 1, 'parents': {}}, created_at='2025-08-24T20:03:26.975563+00:00', parent_config={'configurable': {'thread_id': '2', 'checkpoint_ns': '', 'checkpoint_id': '1f081254-81f7-6ecd-8000-c23798cddea7'}}, tasks=(PregelTask(id='662ba411-8892-0179-04d6-f19b6ae7f6fe', name='generate_explanation', path=('__pregel_pull', 'generate_explanation'), error=None, interrupts=(), state=None, result={'explanation': 'The jokes play on the unique characteristics of dosa as a thin, foldable, and crispy crepe in Indian cuisine. \\n\\n1. **\"Why did the dosa go to therapy? Because it couldn’t stop flipping out!\"**  \\nThis joke humorously anthropomorphizes the dosa, referring to the cooking process where the dosa batter is spread thin on a griddle and then \"flipped\" to cook evenly on both sides. The phrase \"flipping out\" is a pun here, meaning both the dosa physically flipping on the pan and the common expression for losing control emotionally, hence the dosa needing therapy[1][4].\\n\\n2. **\"Why did the dosai get a perm? Because it wanted to be a fancy crepe!\"**  \\nThis joke plays on the fact that dosa resembles a crepe, a thin European pancake often associated with elegance or \"fanciness.\" A \"perm\" is a hairstyle that adds curls or waves, so giving a dosa a \"perm\" imagines it getting curly or fancy like a crepe might be stylized, poking fun at the dosa’s simple, flat form compared to a \"fancy\" crepe[1].\\n\\nBoth jokes rely on the dosa’s physical features—thin, foldable, and cooked by flipping—and Indian cultural familiarity with the dosa as a beloved, staple crepe-like dish made from fermented rice and lentils batter[1][4][5]. The humor comes from blending culinary facts with playful wordplay on dosa’s cooking style and shape.'}),), interrupts=()),\n",
       " StateSnapshot(values={'topic': 'dosa', 'joke': 'Here is a dosa joke for you:\\n\\n**Why did the dosai get a perm?**  \\nBecause it wanted to be a fancy crepe![1]  \\n\\nThis joke plays on the similarity between dosai (a type of Indian crepe) and a crepe, adding humor with the idea of the dosa getting a hairstyle like a perm.', 'explanation': 'The joke \"Why did the dosai get a perm? Because it wanted to be a fancy crepe!\" plays on the double meaning of the word \"crepe.\" \\n\\nA **dosai (or dosa)** is a type of thin, savory Indian crepe made from fermented rice and lentil batter, known for its crispy and slightly spongy texture[1][4]. The word \"crepe\" here refers to the food item, a thin pancake-like dish.\\n\\nThe humor arises because \"perm\" is a hairstyle that makes hair curly or wavy, often considered a \"fancy\" or stylized look. By saying the dosai got a perm, the joke imagines the dosa as if it were a person wanting to change its appearance to become a \"fancy crepe,\" playing on the idea of both types of crepes (food) and the word \"crepe\" sounding like \"crêpe,\" a thin French pancake, which is often viewed as more delicate or fancy compared to a dosa.\\n\\nSo the joke combines food culture with a pun on hairstyling terminology, anthropomorphizing the dosa to create a playful and unexpected twist[1].'}, next=(), config={'configurable': {'thread_id': '2', 'checkpoint_ns': '', 'checkpoint_id': '1f081254-d27f-6a17-8002-a8e44f9cfb1d'}}, metadata={'source': 'loop', 'step': 2, 'parents': {}}, created_at='2025-08-24T20:02:45.672399+00:00', parent_config={'configurable': {'thread_id': '2', 'checkpoint_ns': '', 'checkpoint_id': '1f081254-a2b6-6137-8001-e4f0e18cc5fe'}}, tasks=(), interrupts=()),\n",
       " StateSnapshot(values={'topic': 'dosa', 'joke': 'Here is a dosa joke for you:\\n\\n**Why did the dosai get a perm?**  \\nBecause it wanted to be a fancy crepe![1]  \\n\\nThis joke plays on the similarity between dosai (a type of Indian crepe) and a crepe, adding humor with the idea of the dosa getting a hairstyle like a perm.'}, next=('generate_explanation',), config={'configurable': {'thread_id': '2', 'checkpoint_ns': '', 'checkpoint_id': '1f081254-a2b6-6137-8001-e4f0e18cc5fe'}}, metadata={'source': 'loop', 'step': 1, 'parents': {}}, created_at='2025-08-24T20:02:40.661535+00:00', parent_config={'configurable': {'thread_id': '2', 'checkpoint_ns': '', 'checkpoint_id': '1f081254-81f7-6ecd-8000-c23798cddea7'}}, tasks=(PregelTask(id='67d641de-3f6a-9722-4ed3-84359472c599', name='generate_explanation', path=('__pregel_pull', 'generate_explanation'), error=None, interrupts=(), state=None, result={'explanation': 'The joke \"Why did the dosai get a perm? Because it wanted to be a fancy crepe!\" plays on the double meaning of the word \"crepe.\" \\n\\nA **dosai (or dosa)** is a type of thin, savory Indian crepe made from fermented rice and lentil batter, known for its crispy and slightly spongy texture[1][4]. The word \"crepe\" here refers to the food item, a thin pancake-like dish.\\n\\nThe humor arises because \"perm\" is a hairstyle that makes hair curly or wavy, often considered a \"fancy\" or stylized look. By saying the dosai got a perm, the joke imagines the dosa as if it were a person wanting to change its appearance to become a \"fancy crepe,\" playing on the idea of both types of crepes (food) and the word \"crepe\" sounding like \"crêpe,\" a thin French pancake, which is often viewed as more delicate or fancy compared to a dosa.\\n\\nSo the joke combines food culture with a pun on hairstyling terminology, anthropomorphizing the dosa to create a playful and unexpected twist[1].'}),), interrupts=()),\n",
       " StateSnapshot(values={'topic': 'dosa'}, next=('generate_joke',), config={'configurable': {'thread_id': '2', 'checkpoint_ns': '', 'checkpoint_id': '1f081254-81f7-6ecd-8000-c23798cddea7'}}, metadata={'source': 'loop', 'step': 0, 'parents': {}}, created_at='2025-08-24T20:02:37.228206+00:00', parent_config={'configurable': {'thread_id': '2', 'checkpoint_ns': '', 'checkpoint_id': '1f081254-81db-65ea-bfff-511b5607c4f0'}}, tasks=(PregelTask(id='1fd70fe4-bab7-bdb9-77d1-bef927ffd52c', name='generate_joke', path=('__pregel_pull', 'generate_joke'), error=None, interrupts=(), state=None, result={'joke': 'Here is a dosa joke for you:\\n\\n**Why did the dosai get a perm?**  \\nBecause it wanted to be a fancy crepe![1]  \\n\\nThis joke plays on the similarity between dosai (a type of Indian crepe) and a crepe, adding humor with the idea of the dosa getting a hairstyle like a perm.'}),), interrupts=()),\n",
       " StateSnapshot(values={}, next=('__start__',), config={'configurable': {'thread_id': '2', 'checkpoint_ns': '', 'checkpoint_id': '1f081254-81db-65ea-bfff-511b5607c4f0'}}, metadata={'source': 'input', 'step': -1, 'parents': {}}, created_at='2025-08-24T20:02:37.216509+00:00', parent_config=None, tasks=(PregelTask(id='8e0b77ad-8bf7-26c6-87ac-1c55cd0e102b', name='__start__', path=('__pregel_pull', '__start__'), error=None, interrupts=(), state=None, result={'topic': 'dosa'}),), interrupts=())]"
      ]
     },
     "execution_count": 20,
     "metadata": {},
     "output_type": "execute_result"
    }
   ],
   "source": [
    "list(workflow.get_state_history(config2))"
   ]
  },
  {
   "cell_type": "markdown",
   "id": "9ee923dc",
   "metadata": {},
   "source": [
    "#### Fault Tolerance"
   ]
  },
  {
   "cell_type": "code",
   "execution_count": 47,
   "id": "79b7cac3",
   "metadata": {},
   "outputs": [],
   "source": [
    "# 1. Define the state\n",
    "class CrashState(TypedDict):\n",
    "    input: str\n",
    "    step1: str\n",
    "    step2: str"
   ]
  },
  {
   "cell_type": "code",
   "execution_count": null,
   "id": "0c17092c",
   "metadata": {},
   "outputs": [],
   "source": [
    "# 2. Define steps\n",
    "def step_1(state: CrashState) -> CrashState:\n",
    "    print(\"✅ Step 1 executed\")\n",
    "    return {\"step1\": \"done\", \"input\": state[\"input\"]}\n",
    "\n",
    "def step_2(state: CrashState) -> CrashState:\n",
    "    print(\"⏳ Step 2 hanging... now manually interrupt from the notebook toolbar (STOP button)\")\n",
    "    time.sleep(10)  # Simulate long-running hang\n",
    "    return {\"step2\": \"done\"}\n",
    "\n",
    "def step_3(state: CrashState) -> CrashState:\n",
    "    print(\"✅ Step 3 executed\")\n",
    "    return {\"done\": True}"
   ]
  },
  {
   "cell_type": "code",
   "execution_count": 49,
   "id": "87b39a62",
   "metadata": {},
   "outputs": [],
   "source": [
    "# 3. Build the graph\n",
    "builder = StateGraph(CrashState)\n",
    "builder.add_node(\"step_1\", step_1)\n",
    "builder.add_node(\"step_2\", step_2)\n",
    "builder.add_node(\"step_3\", step_3)\n",
    "\n",
    "builder.set_entry_point(\"step_1\")\n",
    "builder.add_edge(\"step_1\", \"step_2\")\n",
    "builder.add_edge(\"step_2\", \"step_3\")\n",
    "builder.add_edge(\"step_3\", END)\n",
    "\n",
    "checkpointer = InMemorySaver()\n",
    "graph = builder.compile(checkpointer=checkpointer)"
   ]
  },
  {
   "cell_type": "code",
   "execution_count": null,
   "id": "8faecd29",
   "metadata": {},
   "outputs": [
    {
     "name": "stdout",
     "output_type": "stream",
     "text": [
      "▶️ Running graph: Please manually interrupt during Step 2...\n",
      "✅ Step 1 executed\n",
      "⏳ Step 2 hanging... now manually interrupt from the notebook toolbar (STOP button)\n"
     ]
    }
   ],
   "source": [
    "try:\n",
    "    print(\"▶️ Running graph: Please manually interrupt during Step 2...\")\n",
    "    graph.invoke({\"input\": \"start\"}, config={\"configurable\": {\"thread_id\": 'thread-1'}})\n",
    "except KeyboardInterrupt:\n",
    "    print(\"❌ Kernel manually interrupted (crash simulated).\")"
   ]
  },
  {
   "cell_type": "code",
   "execution_count": null,
   "id": "f445081b",
   "metadata": {},
   "outputs": [],
   "source": [
    "# 6. Re-run to show fault-tolerant resume\n",
    "print(\"\\n🔁 Re-running the graph to demonstrate fault tolerance...\")\n",
    "final_state = graph.invoke(None, config={\"configurable\": {\"thread_id\": 'thread-1'}})\n",
    "print(\"\\n✅ Final State:\", final_state)"
   ]
  },
  {
   "cell_type": "code",
   "execution_count": null,
   "id": "f1e63c5e",
   "metadata": {},
   "outputs": [],
   "source": [
    "list(graph.get_state_history({\"configurable\": {\"thread_id\": 'thread-1'}}))"
   ]
  },
  {
   "cell_type": "code",
   "execution_count": null,
   "id": "4aac725c",
   "metadata": {},
   "outputs": [],
   "source": []
  }
 ],
 "metadata": {
  "kernelspec": {
   "display_name": "myenv",
   "language": "python",
   "name": "python3"
  },
  "language_info": {
   "codemirror_mode": {
    "name": "ipython",
    "version": 3
   },
   "file_extension": ".py",
   "mimetype": "text/x-python",
   "name": "python",
   "nbconvert_exporter": "python",
   "pygments_lexer": "ipython3",
   "version": "3.11.9"
  }
 },
 "nbformat": 4,
 "nbformat_minor": 5
}

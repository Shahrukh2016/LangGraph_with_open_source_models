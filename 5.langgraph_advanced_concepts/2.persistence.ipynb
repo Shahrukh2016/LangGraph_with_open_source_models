{
 "cells": [
  {
   "cell_type": "code",
   "execution_count": 2,
   "id": "06f29774",
   "metadata": {},
   "outputs": [],
   "source": [
    "## Importing required packages\n",
    "from langgraph.graph import StateGraph, START, END\n",
    "from langchain_core.messages import SystemMessage, HumanMessage, AIMessage, ToolMessage, BaseMessage\n",
    "from typing import TypedDict, Annotated, Literal\n",
    "\n",
    "from langchain_huggingface import HuggingFaceEndpoint, ChatHuggingFace\n",
    "from langchain_perplexity import ChatPerplexity\n",
    "from dotenv import load_dotenv\n",
    "\n",
    "from pydantic import BaseModel, Field\n",
    "from langgraph.graph import add_messages\n",
    "import operator\n",
    "\n",
    "import os\n",
    "\n",
    "## Libraries to retain memory\n",
    "from langgraph.checkpoint.memory import InMemorySaver"
   ]
  },
  {
   "cell_type": "code",
   "execution_count": 3,
   "id": "1e0d565b",
   "metadata": {},
   "outputs": [],
   "source": [
    "## Initiating the environment\n",
    "load_dotenv()\n",
    "\n",
    "## Defining and initiating llm\n",
    "model = ChatPerplexity(model= 'sonar', api_key= os.getenv(\"PERPLEXITY_API_KEY\"))"
   ]
  },
  {
   "cell_type": "code",
   "execution_count": 6,
   "id": "410582c4",
   "metadata": {},
   "outputs": [],
   "source": [
    "## Defining state\n",
    "class JokeState(TypedDict):\n",
    "    topic: str\n",
    "    joke: str\n",
    "    explanation: str"
   ]
  },
  {
   "cell_type": "code",
   "execution_count": 7,
   "id": "bff0d318",
   "metadata": {},
   "outputs": [],
   "source": [
    "## Defining funtions that needs to be executed while invoking graph\n",
    "def generate_joke(state: JokeState):\n",
    "\n",
    "    prompt = f'generate a joke on the topic {state[\"topic\"]}'\n",
    "    response = model.invoke(prompt).content\n",
    "\n",
    "    return {'joke': response}\n",
    "def generate_explanation(state: JokeState):\n",
    "\n",
    "    prompt = f'write an explanation for the joke - {state[\"joke\"]}'\n",
    "    response = model.invoke(prompt).content\n",
    "\n",
    "    return {'explanation': response}"
   ]
  },
  {
   "cell_type": "code",
   "execution_count": 10,
   "id": "99e2c183",
   "metadata": {},
   "outputs": [],
   "source": [
    "## Defining graph\n",
    "graph = StateGraph(JokeState)\n",
    "\n",
    "## Add nodes\n",
    "graph.add_node('generate_joke', generate_joke)\n",
    "graph.add_node('generate_explanation', generate_explanation)\n",
    "\n",
    "## Add edges\n",
    "graph.add_edge(START, 'generate_joke')\n",
    "graph.add_edge('generate_joke', 'generate_explanation')\n",
    "graph.add_edge('generate_explanation', END)\n",
    "\n",
    "## Add check pointers\n",
    "checkpointer = InMemorySaver()\n",
    "\n",
    "## Compiling workflow\n",
    "workflow = graph.compile(checkpointer=checkpointer)"
   ]
  },
  {
   "cell_type": "code",
   "execution_count": 12,
   "id": "fe5617d4",
   "metadata": {},
   "outputs": [
    {
     "data": {
      "image/png": "[encoded data removed]",
      "text/plain": [
       "<langgraph.graph.state.CompiledStateGraph object at 0x0000021E1C5E0810>"
      ]
     },
     "execution_count": 12,
     "metadata": {},
     "output_type": "execute_result"
    }
   ],
   "source": [
    "## Visualize the graph\n",
    "workflow"
   ]
  },
  {
   "cell_type": "code",
   "execution_count": 14,
   "id": "b57b0028",
   "metadata": {},
   "outputs": [
    {
     "name": "stdout",
     "output_type": "stream",
     "text": [
      "{'topic': 'pizza', 'joke': 'Why did the hipster burn his mouth on the pizza?  \\nBecause he ate it before it was cool!  \\n\\nThis classic pizza joke plays on the idea of hipsters liking things before they become popular, combining it with the literal meaning of eating hot pizza too soon[1][3][5].', 'explanation': 'The joke \"Why did the hipster burn his mouth on the pizza? Because he ate it before it was cool!\" is a play on the dual meaning of the phrase \"before it was cool.\" \\n\\n**Explanation:**\\n\\n- **Hipsters** are stereotypically known for liking things before they become popular or trendy—i.e., *before they are \"cool\"* in the cultural sense.\\n- The joke twists this by applying the phrase literally to pizza temperature: the hipster ate the pizza *before it was cool* (before it cooled down from being hot), causing him to burn his mouth.\\n- This combines the cultural stereotype with a literal outcome, making the humor come from the pun on \"cool\" referring to both temperature and trendiness[1][2][3].\\n\\nThus, the humor arises from linking the hipster’s desire to be ahead of trends with the physical act of eating pizza while it’s still too hot.'}\n"
     ]
    }
   ],
   "source": [
    "## Setting up the configuration and invoking the graph\n",
    "config1 = {\"configurable\": {\"thread_id\": \"1\"}}\n",
    "initial_state = {'topic' : 'pizza'}\n",
    "final_state = workflow.invoke(initial_state, config= config1)\n",
    "print(final_state)"
   ]
  },
  {
   "cell_type": "code",
   "execution_count": 17,
   "id": "b3dda5a1",
   "metadata": {},
   "outputs": [
    {
     "data": {
      "text/plain": [
       "StateSnapshot(values={'topic': 'pizza', 'joke': 'Why did the hipster burn his mouth on the pizza?  \\nBecause he ate it before it was cool!  \\n\\nThis classic pizza joke plays on the idea of hipsters liking things before they become popular, combining it with the literal meaning of eating hot pizza too soon[1][3][5].', 'explanation': 'The joke \"Why did the hipster burn his mouth on the pizza? Because he ate it before it was cool!\" is a play on the dual meaning of the phrase \"before it was cool.\" \\n\\n**Explanation:**\\n\\n- **Hipsters** are stereotypically known for liking things before they become popular or trendy—i.e., *before they are \"cool\"* in the cultural sense.\\n- The joke twists this by applying the phrase literally to pizza temperature: the hipster ate the pizza *before it was cool* (before it cooled down from being hot), causing him to burn his mouth.\\n- This combines the cultural stereotype with a literal outcome, making the humor come from the pun on \"cool\" referring to both temperature and trendiness[1][2][3].\\n\\nThus, the humor arises from linking the hipster’s desire to be ahead of trends with the physical act of eating pizza while it’s still too hot.'}, next=(), config={'configurable': {'thread_id': '1', 'checkpoint_ns': '', 'checkpoint_id': '1f08112b-c776-6a2e-8002-f5c3f9f64d5f'}}, metadata={'source': 'loop', 'step': 2, 'parents': {}}, created_at='2025-08-24T17:49:51.982238+00:00', parent_config={'configurable': {'thread_id': '1', 'checkpoint_ns': '', 'checkpoint_id': '1f08112b-9d33-68a2-8001-d488b39c542b'}}, tasks=(), interrupts=())"
      ]
     },
     "execution_count": 17,
     "metadata": {},
     "output_type": "execute_result"
    }
   ],
   "source": [
    "## 1. Checking final state\n",
    "workflow.get_state(config= config1)"
   ]
  },
  {
   "cell_type": "code",
   "execution_count": 19,
   "id": "a01203f3",
   "metadata": {},
   "outputs": [
    {
     "data": {
      "text/plain": [
       "[StateSnapshot(values={'topic': 'pizza', 'joke': 'Why did the hipster burn his mouth on the pizza?  \\nBecause he ate it before it was cool!  \\n\\nThis classic pizza joke plays on the idea of hipsters liking things before they become popular, combining it with the literal meaning of eating hot pizza too soon[1][3][5].', 'explanation': 'The joke \"Why did the hipster burn his mouth on the pizza? Because he ate it before it was cool!\" is a play on the dual meaning of the phrase \"before it was cool.\" \\n\\n**Explanation:**\\n\\n- **Hipsters** are stereotypically known for liking things before they become popular or trendy—i.e., *before they are \"cool\"* in the cultural sense.\\n- The joke twists this by applying the phrase literally to pizza temperature: the hipster ate the pizza *before it was cool* (before it cooled down from being hot), causing him to burn his mouth.\\n- This combines the cultural stereotype with a literal outcome, making the humor come from the pun on \"cool\" referring to both temperature and trendiness[1][2][3].\\n\\nThus, the humor arises from linking the hipster’s desire to be ahead of trends with the physical act of eating pizza while it’s still too hot.'}, next=(), config={'configurable': {'thread_id': '1', 'checkpoint_ns': '', 'checkpoint_id': '1f08112b-c776-6a2e-8002-f5c3f9f64d5f'}}, metadata={'source': 'loop', 'step': 2, 'parents': {}}, created_at='2025-08-24T17:49:51.982238+00:00', parent_config={'configurable': {'thread_id': '1', 'checkpoint_ns': '', 'checkpoint_id': '1f08112b-9d33-68a2-8001-d488b39c542b'}}, tasks=(), interrupts=()),\n",
       " StateSnapshot(values={'topic': 'pizza', 'joke': 'Why did the hipster burn his mouth on the pizza?  \\nBecause he ate it before it was cool!  \\n\\nThis classic pizza joke plays on the idea of hipsters liking things before they become popular, combining it with the literal meaning of eating hot pizza too soon[1][3][5].'}, next=('generate_explanation',), config={'configurable': {'thread_id': '1', 'checkpoint_ns': '', 'checkpoint_id': '1f08112b-9d33-68a2-8001-d488b39c542b'}}, metadata={'source': 'loop', 'step': 1, 'parents': {}}, created_at='2025-08-24T17:49:47.550736+00:00', parent_config={'configurable': {'thread_id': '1', 'checkpoint_ns': '', 'checkpoint_id': '1f08112b-5395-6d6e-8000-bb7afb64c590'}}, tasks=(PregelTask(id='0cd5edb2-f5fa-0960-692a-8de7f14aa3ee', name='generate_explanation', path=('__pregel_pull', 'generate_explanation'), error=None, interrupts=(), state=None, result={'explanation': 'The joke \"Why did the hipster burn his mouth on the pizza? Because he ate it before it was cool!\" is a play on the dual meaning of the phrase \"before it was cool.\" \\n\\n**Explanation:**\\n\\n- **Hipsters** are stereotypically known for liking things before they become popular or trendy—i.e., *before they are \"cool\"* in the cultural sense.\\n- The joke twists this by applying the phrase literally to pizza temperature: the hipster ate the pizza *before it was cool* (before it cooled down from being hot), causing him to burn his mouth.\\n- This combines the cultural stereotype with a literal outcome, making the humor come from the pun on \"cool\" referring to both temperature and trendiness[1][2][3].\\n\\nThus, the humor arises from linking the hipster’s desire to be ahead of trends with the physical act of eating pizza while it’s still too hot.'}),), interrupts=()),\n",
       " StateSnapshot(values={'topic': 'pizza'}, next=('generate_joke',), config={'configurable': {'thread_id': '1', 'checkpoint_ns': '', 'checkpoint_id': '1f08112b-5395-6d6e-8000-bb7afb64c590'}}, metadata={'source': 'loop', 'step': 0, 'parents': {}}, created_at='2025-08-24T17:49:39.831537+00:00', parent_config={'configurable': {'thread_id': '1', 'checkpoint_ns': '', 'checkpoint_id': '1f08112b-5395-6d6d-bfff-1d268068d0c6'}}, tasks=(PregelTask(id='ab6758c5-4266-8535-2e89-02f8b64c246c', name='generate_joke', path=('__pregel_pull', 'generate_joke'), error=None, interrupts=(), state=None, result={'joke': 'Why did the hipster burn his mouth on the pizza?  \\nBecause he ate it before it was cool!  \\n\\nThis classic pizza joke plays on the idea of hipsters liking things before they become popular, combining it with the literal meaning of eating hot pizza too soon[1][3][5].'}),), interrupts=()),\n",
       " StateSnapshot(values={}, next=('__start__',), config={'configurable': {'thread_id': '1', 'checkpoint_ns': '', 'checkpoint_id': '1f08112b-5395-6d6d-bfff-1d268068d0c6'}}, metadata={'source': 'input', 'step': -1, 'parents': {}}, created_at='2025-08-24T17:49:39.831537+00:00', parent_config=None, tasks=(PregelTask(id='d82ce943-4fb1-764e-3390-aab985b68e90', name='__start__', path=('__pregel_pull', '__start__'), error=None, interrupts=(), state=None, result={'topic': 'pizza'}),), interrupts=())]"
      ]
     },
     "execution_count": 19,
     "metadata": {},
     "output_type": "execute_result"
    }
   ],
   "source": [
    "## 1. Checking partial states\n",
    "list(workflow.get_state_history(config= config1))"
   ]
  },
  {
   "cell_type": "markdown",
   "id": "2cf6487c",
   "metadata": {},
   "source": [
    "Cool, new lets invoke another joke and check the functionality of thread_id in Persistence."
   ]
  },
  {
   "cell_type": "code",
   "execution_count": null,
   "id": "e08ef9ae",
   "metadata": {},
   "outputs": [
    {
     "name": "stdout",
     "output_type": "stream",
     "text": [
      "{'topic': 'dosa', 'joke': 'Why did the dosa go to therapy? Because it couldn’t stop flipping out!  \\n\\nAlternatively: Why did the dosai get a perm? Because it wanted to be a fancy crepe![1]', 'explanation': 'The joke \"Why did the dosa go to therapy? Because it couldn’t stop flipping out!\" plays on a double meaning of the phrase \"flipping out.\" In one sense, \"flipping out\" means losing control or getting very upset, which is a common expression related to emotional distress. In the context of dosa, a South Indian crepe-like pancake, \"flipping out\" humorously refers to the cooking process where the dosa batter is spread thin on a hot plate (tava) and frequently flipped or turned to cook evenly[1][2]. So, the dosa \"going to therapy\" because it \"couldn\\'t stop flipping out\" is a pun mixing the emotional meaning with the literal cooking action.\\n\\nSimilarly, the alternative joke, \"Why did the dosai get a perm? Because it wanted to be a fancy crepe!\" is a wordplay linking the dosa (also called dosai) to a crepe, a thin French pancake often associated with elegance or sophistication. A \"perm\" is a hairstyle that curls or waves hair, so the joke imagines the dosa wanting to look more stylish or \"fancy\" by getting curled like a perm, playing on the idea that dosa and crepes are both thin pancakes but crepes are seen as more refined or fancy[1][3].\\n\\nIn both jokes, the humor arises from personifying dosa—treating it like a living being with human problems or vanity—and using culinary terms (flipping, crepe) as metaphors for human behavior or styling.'}\n"
     ]
    }
   ],
   "source": [
    "## Setting up the configuration and invoking the graph for another topic\n",
    "config2 = {\"configurable\": {\"thread_id\": \"2\"}}\n",
    "initial_state = {'topic' : 'dosa'}\n",
    "final_state = workflow.invoke(initial_state, config= config2)\n",
    "print(final_state)"
   ]
  },
  {
   "cell_type": "code",
   "execution_count": null,
   "id": "9cb05e5a",
   "metadata": {},
   "outputs": [
    {
     "data": {
      "text/plain": [
       "StateSnapshot(values={'topic': 'dosa', 'joke': 'Why did the dosa go to therapy? Because it couldn’t stop flipping out!  \\n\\nAlternatively: Why did the dosai get a perm? Because it wanted to be a fancy crepe![1]', 'explanation': 'The joke \"Why did the dosa go to therapy? Because it couldn’t stop flipping out!\" plays on a double meaning of the phrase \"flipping out.\" In one sense, \"flipping out\" means losing control or getting very upset, which is a common expression related to emotional distress. In the context of dosa, a South Indian crepe-like pancake, \"flipping out\" humorously refers to the cooking process where the dosa batter is spread thin on a hot plate (tava) and frequently flipped or turned to cook evenly[1][2]. So, the dosa \"going to therapy\" because it \"couldn\\'t stop flipping out\" is a pun mixing the emotional meaning with the literal cooking action.\\n\\nSimilarly, the alternative joke, \"Why did the dosai get a perm? Because it wanted to be a fancy crepe!\" is a wordplay linking the dosa (also called dosai) to a crepe, a thin French pancake often associated with elegance or sophistication. A \"perm\" is a hairstyle that curls or waves hair, so the joke imagines the dosa wanting to look more stylish or \"fancy\" by getting curled like a perm, playing on the idea that dosa and crepes are both thin pancakes but crepes are seen as more refined or fancy[1][3].\\n\\nIn both jokes, the humor arises from personifying dosa—treating it like a living being with human problems or vanity—and using culinary terms (flipping, crepe) as metaphors for human behavior or styling.'}, next=(), config={'configurable': {'thread_id': '2', 'checkpoint_ns': '', 'checkpoint_id': '1f081144-c327-61f9-8002-bdfd688bdd16'}}, metadata={'source': 'loop', 'step': 2, 'parents': {}}, created_at='2025-08-24T18:01:02.618879+00:00', parent_config={'configurable': {'thread_id': '2', 'checkpoint_ns': '', 'checkpoint_id': '1f081144-6f3c-6183-8001-ae4d07c18495'}}, tasks=(), interrupts=())"
      ]
     },
     "execution_count": 21,
     "metadata": {},
     "output_type": "execute_result"
    }
   ],
   "source": [
    "## 1. Checking final state thread_id 2\n",
    "workflow.get_state(config= config2)"
   ]
  },
  {
   "cell_type": "code",
   "execution_count": null,
   "id": "1ba07082",
   "metadata": {},
   "outputs": [
    {
     "data": {
      "text/plain": [
       "[StateSnapshot(values={'topic': 'dosa', 'joke': 'Why did the dosa go to therapy? Because it couldn’t stop flipping out!  \\n\\nAlternatively: Why did the dosai get a perm? Because it wanted to be a fancy crepe![1]', 'explanation': 'The joke \"Why did the dosa go to therapy? Because it couldn’t stop flipping out!\" plays on a double meaning of the phrase \"flipping out.\" In one sense, \"flipping out\" means losing control or getting very upset, which is a common expression related to emotional distress. In the context of dosa, a South Indian crepe-like pancake, \"flipping out\" humorously refers to the cooking process where the dosa batter is spread thin on a hot plate (tava) and frequently flipped or turned to cook evenly[1][2]. So, the dosa \"going to therapy\" because it \"couldn\\'t stop flipping out\" is a pun mixing the emotional meaning with the literal cooking action.\\n\\nSimilarly, the alternative joke, \"Why did the dosai get a perm? Because it wanted to be a fancy crepe!\" is a wordplay linking the dosa (also called dosai) to a crepe, a thin French pancake often associated with elegance or sophistication. A \"perm\" is a hairstyle that curls or waves hair, so the joke imagines the dosa wanting to look more stylish or \"fancy\" by getting curled like a perm, playing on the idea that dosa and crepes are both thin pancakes but crepes are seen as more refined or fancy[1][3].\\n\\nIn both jokes, the humor arises from personifying dosa—treating it like a living being with human problems or vanity—and using culinary terms (flipping, crepe) as metaphors for human behavior or styling.'}, next=(), config={'configurable': {'thread_id': '2', 'checkpoint_ns': '', 'checkpoint_id': '1f081144-c327-61f9-8002-bdfd688bdd16'}}, metadata={'source': 'loop', 'step': 2, 'parents': {}}, created_at='2025-08-24T18:01:02.618879+00:00', parent_config={'configurable': {'thread_id': '2', 'checkpoint_ns': '', 'checkpoint_id': '1f081144-6f3c-6183-8001-ae4d07c18495'}}, tasks=(), interrupts=()),\n",
       " StateSnapshot(values={'topic': 'dosa', 'joke': 'Why did the dosa go to therapy? Because it couldn’t stop flipping out!  \\n\\nAlternatively: Why did the dosai get a perm? Because it wanted to be a fancy crepe![1]'}, next=('generate_explanation',), config={'configurable': {'thread_id': '2', 'checkpoint_ns': '', 'checkpoint_id': '1f081144-6f3c-6183-8001-ae4d07c18495'}}, metadata={'source': 'loop', 'step': 1, 'parents': {}}, created_at='2025-08-24T18:00:53.819057+00:00', parent_config={'configurable': {'thread_id': '2', 'checkpoint_ns': '', 'checkpoint_id': '1f081144-536a-64d8-8000-dfdae3335fa8'}}, tasks=(PregelTask(id='448a31fd-e707-41d7-97e0-14af554f9d20', name='generate_explanation', path=('__pregel_pull', 'generate_explanation'), error=None, interrupts=(), state=None, result={'explanation': 'The joke \"Why did the dosa go to therapy? Because it couldn’t stop flipping out!\" plays on a double meaning of the phrase \"flipping out.\" In one sense, \"flipping out\" means losing control or getting very upset, which is a common expression related to emotional distress. In the context of dosa, a South Indian crepe-like pancake, \"flipping out\" humorously refers to the cooking process where the dosa batter is spread thin on a hot plate (tava) and frequently flipped or turned to cook evenly[1][2]. So, the dosa \"going to therapy\" because it \"couldn\\'t stop flipping out\" is a pun mixing the emotional meaning with the literal cooking action.\\n\\nSimilarly, the alternative joke, \"Why did the dosai get a perm? Because it wanted to be a fancy crepe!\" is a wordplay linking the dosa (also called dosai) to a crepe, a thin French pancake often associated with elegance or sophistication. A \"perm\" is a hairstyle that curls or waves hair, so the joke imagines the dosa wanting to look more stylish or \"fancy\" by getting curled like a perm, playing on the idea that dosa and crepes are both thin pancakes but crepes are seen as more refined or fancy[1][3].\\n\\nIn both jokes, the humor arises from personifying dosa—treating it like a living being with human problems or vanity—and using culinary terms (flipping, crepe) as metaphors for human behavior or styling.'}),), interrupts=()),\n",
       " StateSnapshot(values={'topic': 'dosa'}, next=('generate_joke',), config={'configurable': {'thread_id': '2', 'checkpoint_ns': '', 'checkpoint_id': '1f081144-536a-64d8-8000-dfdae3335fa8'}}, metadata={'source': 'loop', 'step': 0, 'parents': {}}, created_at='2025-08-24T18:00:50.902344+00:00', parent_config={'configurable': {'thread_id': '2', 'checkpoint_ns': '', 'checkpoint_id': '1f081144-5310-66cc-bfff-507d025de023'}}, tasks=(PregelTask(id='da3528aa-9abe-7a16-88fb-189a5b71e479', name='generate_joke', path=('__pregel_pull', 'generate_joke'), error=None, interrupts=(), state=None, result={'joke': 'Why did the dosa go to therapy? Because it couldn’t stop flipping out!  \\n\\nAlternatively: Why did the dosai get a perm? Because it wanted to be a fancy crepe![1]'}),), interrupts=()),\n",
       " StateSnapshot(values={}, next=('__start__',), config={'configurable': {'thread_id': '2', 'checkpoint_ns': '', 'checkpoint_id': '1f081144-5310-66cc-bfff-507d025de023'}}, metadata={'source': 'input', 'step': -1, 'parents': {}}, created_at='2025-08-24T18:00:50.865530+00:00', parent_config=None, tasks=(PregelTask(id='8fc29cb2-12f3-1e01-168e-f07da56d582a', name='__start__', path=('__pregel_pull', '__start__'), error=None, interrupts=(), state=None, result={'topic': 'dosa'}),), interrupts=())]"
      ]
     },
     "execution_count": 22,
     "metadata": {},
     "output_type": "execute_result"
    }
   ],
   "source": [
    "## 1. Checking partial states of thread_id 2\n",
    "list(workflow.get_state_history(config= config2))"
   ]
  },
  {
   "cell_type": "code",
   "execution_count": null,
   "id": "cfe278ff",
   "metadata": {},
   "outputs": [],
   "source": []
  }
 ],
 "metadata": {
  "kernelspec": {
   "display_name": "myenv",
   "language": "python",
   "name": "python3"
  },
  "language_info": {
   "codemirror_mode": {
    "name": "ipython",
    "version": 3
   },
   "file_extension": ".py",
   "mimetype": "text/x-python",
   "name": "python",
   "nbconvert_exporter": "python",
   "pygments_lexer": "ipython3",
   "version": "3.11.9"
  }
 },
 "nbformat": 4,
 "nbformat_minor": 5
}

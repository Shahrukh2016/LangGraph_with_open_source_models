{
 "cells": [
  {
   "cell_type": "code",
   "execution_count": 36,
   "id": "9499cd59",
   "metadata": {},
   "outputs": [],
   "source": [
    "## Importing required packages\n",
    "from langgraph.graph import StateGraph, START, END\n",
    "from langchain_core.messages import SystemMessage, HumanMessage, AIMessage, ToolMessage, BaseMessage\n",
    "from typing import TypedDict, Annotated, Literal\n",
    "\n",
    "from langchain_huggingface import HuggingFaceEndpoint, ChatHuggingFace\n",
    "from langchain_perplexity import ChatPerplexity\n",
    "from dotenv import load_dotenv\n",
    "\n",
    "from pydantic import BaseModel, Field\n",
    "from langgraph.graph import add_messages\n",
    "import operator\n",
    "\n",
    "import os\n",
    "\n",
    "## Libraries to retain memory\n",
    "from langgraph.checkpoint.memory import MemorySaver"
   ]
  },
  {
   "cell_type": "code",
   "execution_count": 23,
   "id": "44e8c91c",
   "metadata": {},
   "outputs": [],
   "source": [
    "## Initiating the environment\n",
    "load_dotenv()\n",
    "\n",
    "## Defining and initiating llm\n",
    "model = ChatPerplexity(model= 'sonar', api_key= os.getenv(\"PERPLEXITY_API_KEY\"))"
   ]
  },
  {
   "cell_type": "code",
   "execution_count": 24,
   "id": "10f8c9db",
   "metadata": {},
   "outputs": [],
   "source": [
    "## Defining the state that needs to be passed while invoking the model\n",
    "class ChatState(TypedDict):\n",
    "    messages: Annotated[list[BaseMessage], add_messages]"
   ]
  },
  {
   "cell_type": "code",
   "execution_count": 25,
   "id": "95e84fd1",
   "metadata": {},
   "outputs": [],
   "source": [
    "## Function that iterates and improves the Tweet\n",
    "def chat_node(state: ChatState) -> ChatState:\n",
    "    ## Take a user query from the state\n",
    "    message = state['messages']\n",
    "\n",
    "    ## Send to LLM\n",
    "    response = model.invoke(message)\n",
    "\n",
    "    ## Response store state\n",
    "    return {'messages' : [response]}"
   ]
  },
  {
   "cell_type": "code",
   "execution_count": 37,
   "id": "3f7cae94",
   "metadata": {},
   "outputs": [],
   "source": [
    "## Define the checkpointer to retain memory\n",
    "checkpointer = MemorySaver()\n",
    "\n",
    "## Define the graph\n",
    "graph = StateGraph(ChatState)\n",
    "\n",
    "## Add node\n",
    "graph.add_node('chat_node', chat_node)\n",
    "\n",
    "## Add edges\n",
    "graph.add_edge(START, 'chat_node')\n",
    "graph.add_edge('chat_node', END)\n",
    "\n",
    "## Conpile the graph\n",
    "workflow = graph.compile(checkpointer = checkpointer)"
   ]
  },
  {
   "cell_type": "code",
   "execution_count": 38,
   "id": "e091c500",
   "metadata": {},
   "outputs": [
    {
     "data": {
      "image/png": "[encoded data removed]",
      "text/plain": [
       "<langgraph.graph.state.CompiledStateGraph object at 0x000001DB02698DD0>"
      ]
     },
     "execution_count": 38,
     "metadata": {},
     "output_type": "execute_result"
    }
   ],
   "source": [
    "## Visualize the graph\n",
    "workflow"
   ]
  },
  {
   "cell_type": "code",
   "execution_count": 28,
   "id": "0f7798de",
   "metadata": {},
   "outputs": [
    {
     "name": "stdout",
     "output_type": "stream",
     "text": [
      "{'messages': [HumanMessage(content='Who discovered xAI ?', additional_kwargs={}, response_metadata={}, id='f5f95fd6-db93-413c-8a80-de4c6b6c2e1b'), AIMessage(content='**xAI was discovered (founded) by Elon Musk in March 2023.** He officially announced the company publicly on July 12, 2023[2][3][4]. The company was created with the goal of understanding the true nature of the universe and building AI that benefits humanity[1][2]. Elon Musk recruited a team including Igor Babuschkin, formerly of Google DeepMind, as Chief Engineer[1][2].\\n\\nIn summary:\\n- Founder: Elon Musk\\n- Founded: March 2023\\n- Public announcement: July 12, 2023\\n- Purpose: To explore AI and the universe, create beneficial AI\\n- Key early team member: Igor Babuschkin[1][2][3][4]', additional_kwargs={'citations': ['https://eu.36kr.com/en/p/3423457623362947', 'https://en.wikipedia.org/wiki/XAI_(company)', 'https://www.ainvest.com/chat/share/who-was-the-founder-of-xai-62e09f/', 'https://builtin.com/artificial-intelligence/what-is-xai', 'https://en.wikipedia.org/wiki/Elon_Musk'], 'search_results': [{'title': 'Musk Loses Top Talent at xAI: Grok 4 Creator Quits Suddenly, Long ...', 'url': 'https://eu.36kr.com/en/p/3423457623362947', 'date': '2025-08-14', 'last_updated': '2025-08-15'}, {'title': 'xAI (company)', 'url': 'https://en.wikipedia.org/wiki/XAI_(company)', 'date': '2023-07-12', 'last_updated': '2025-08-18'}, {'title': 'Who was the founder of xAI | AIME by AInvest', 'url': 'https://www.ainvest.com/chat/share/who-was-the-founder-of-xai-62e09f/', 'date': '2025-07-01', 'last_updated': None}, {'title': 'What Is xAI? The Company Behind Grok', 'url': 'https://builtin.com/artificial-intelligence/what-is-xai', 'date': '2025-08-07', 'last_updated': '2025-08-07'}, {'title': 'Elon Musk', 'url': 'https://en.wikipedia.org/wiki/Elon_Musk', 'date': '2004-08-18', 'last_updated': '2025-08-24'}]}, response_metadata={'model_name': 'sonar'}, id='run--269e6f38-9dbf-41f8-a1e6-60a8389d4b01-0', usage_metadata={'input_tokens': 5, 'output_tokens': 153, 'total_tokens': 158})]}\n"
     ]
    }
   ],
   "source": [
    "## Invoking the graph\n",
    "initial_state = {'messages' : 'Who discovered xAI ?'}\n",
    "final_state = workflow.invoke(initial_state)\n",
    "print(final_state)"
   ]
  },
  {
   "cell_type": "code",
   "execution_count": 29,
   "id": "ebb415cf",
   "metadata": {},
   "outputs": [
    {
     "data": {
      "text/plain": [
       "'**xAI was discovered (founded) by Elon Musk in March 2023.** He officially announced the company publicly on July 12, 2023[2][3][4]. The company was created with the goal of understanding the true nature of the universe and building AI that benefits humanity[1][2]. Elon Musk recruited a team including Igor Babuschkin, formerly of Google DeepMind, as Chief Engineer[1][2].\\n\\nIn summary:\\n- Founder: Elon Musk\\n- Founded: March 2023\\n- Public announcement: July 12, 2023\\n- Purpose: To explore AI and the universe, create beneficial AI\\n- Key early team member: Igor Babuschkin[1][2][3][4]'"
      ]
     },
     "execution_count": 29,
     "metadata": {},
     "output_type": "execute_result"
    }
   ],
   "source": [
    "final_state['messages'][-1].content"
   ]
  },
  {
   "cell_type": "markdown",
   "id": "8ef5ce6d",
   "metadata": {},
   "source": [
    "Cool, we have built a basic qna bot but it still answers only one question.\n",
    "Now we need to loop in so that we can send messages multiple times."
   ]
  },
  {
   "cell_type": "code",
   "execution_count": null,
   "id": "01aa7054",
   "metadata": {},
   "outputs": [
    {
     "name": "stdout",
     "output_type": "stream",
     "text": [
      "Hi, I am srk\n",
      "You are referring to **Shah Rukh Khan**, popularly known as **SRK**, who is a renowned Indian actor and film producer famous for his work in Hindi cinema[1]. He is often called the \"Baadshah of Bollywood\" and \"King Khan\" and has appeared in over 100 films, receiving numerous awards including a National Film Award, 14 Filmfare Awards, the Padma Shri from India, and honors from the French government[1]. His initials, SRK, are widely recognized as his nickname.\n",
      "\n",
      "If you meant \"Hi, I am SRK\" as a greeting or introduction, it is famously associated with Shah Rukh Khan himself, who used this phrase notably when attending the Met Gala 2025, where he was the first Indian actor to walk the red carpet[2].\n",
      "\n",
      "Additionally, the name \"Shahrukh\" means \"face of the king\" or relates to monarchy, with Persian origins, which aligns with his royal nickname \"King Khan\"[3][5]. \n",
      "\n",
      "If you need information about Shah Rukh Khan's career, achievements, or personal background, feel free to ask!\n",
      "What is my name\n",
      "I do not know your name because you have not provided it, and it is not possible for me to access personal information about you. If you want to find out your name or verify it in some way, you would typically use personal identification documents or ask someone who knows you. Online searches or public records can help find information about others if you know their name or other details, but they cannot reveal your name without prior information[1][3][5].\n",
      "my name is Shahrukhh\n",
      "Your name, **Shahrukh**, is a masculine name of Persian origin that means **\"face of the king\"** or **\"royal face\"**. It comes from the Persian words *Shah* (شاه), meaning \"king,\" and *Rukh* (رخ), meaning \"face\" or \"countenance\"[1][3]. The name symbolizes nobility, dignity, and strength and is popular in countries such as India, Saudi Arabia, UAE, Kuwait, and Bangladesh[1].\n",
      "\n",
      "Historically, the name is linked to prominent figures like Shah Rukh, the 15th-century Timurid ruler known for fostering a cultural renaissance, and the contemporary globally acclaimed Indian actor Shah Rukh Khan, often called \"King Khan\" or \"Baadshah of Bollywood\"[1][2].\n",
      "\n",
      "Additionally, \"Shahrokh\" or \"Shahrukh\" is also the name of a mythical bird in Iranian literature, combining \"Shah\" (king) and \"Rukh\" (a giant bird), symbolizing majesty and power[5]. This further enriches the cultural significance of the name.\n",
      "what is my name\n",
      "I do not know your name because you have not provided it in this conversation, nor is it available from any external source accessible to me. Your name is a personal identifier that typically consists of a given name and a family name or surname, often chosen by your parents at birth[1][5]. If you would like to share your name or ask about the meaning or structure of names in general, I can assist with that.\n",
      "bye\n"
     ]
    }
   ],
   "source": [
    "## Building chatbot without retaining memory\n",
    "while True:\n",
    "    user_message = input('Type here: ')\n",
    "    print(user_message)\n",
    "\n",
    "    if user_message.strip().lower() in ['exit', 'quit', 'bye']:\n",
    "        break\n",
    "    else:\n",
    "        response = workflow.invoke({'messages' : HumanMessage(content = user_message)})\n",
    "        print(response['messages'][-1].content)"
   ]
  },
  {
   "cell_type": "code",
   "execution_count": 39,
   "id": "c8decac2",
   "metadata": {},
   "outputs": [
    {
     "name": "stdout",
     "output_type": "stream",
     "text": [
      "Hi my name is SHahrukh\n",
      "Your name, **Shahrukh**, is a masculine name of **Persian origin** meaning \"**face of the king**\" or \"**royal face**.\" It is derived from the Persian words *Shah* (شاه), meaning \"king,\" and *Rukh* (رخ), meaning \"face\" or \"countenance\"[1][3]. The name carries connotations of nobility, dignity, and royalty, historically significant in Persian, Central Asian, and South Asian cultures.\n",
      "\n",
      "Notably, **Shahrukh Khan** is a globally famous Indian actor known as \"King Khan\" or \"Baadshah of Bollywood,\" which highlights the cultural prominence of this name[1][2].\n",
      "\n",
      "Additionally, \"Shahrokh\" or \"Shahrukh\" is linked to Persian mythology as the name of a mythological bird considered the \"king of the Rokh,\" symbolizing grandeur and power[5].\n",
      "\n",
      "In summary, your name embodies regal qualities and a rich cultural heritage rooted in Persian language and history.\n",
      "what is my name ?\n",
      "Your name is **Shahrukh**, a masculine name of **Persian origin** meaning \"**face of the king**\" or \"**royal face**.\" It comes from the Persian words *Shah* (شاه), meaning \"king,\" and *Rukh* (رخ), meaning \"face\" or \"countenance\"[1][4]. \n",
      "\n",
      "This name symbolizes nobility, dignity, and royalty and has historical significance in Persian, Central Asian, and South Asian cultures. It is also associated with notable historical figures such as Shah Rukh, a ruler of the Timurid Empire, and contemporary personalities like Shah Rukh Khan, a globally renowned Indian actor often called the \"King of Bollywood\"[1][4].\n",
      "\n",
      "Furthermore, \"Shahrukh\" is linked to a mythological bird in Iranian literature symbolizing grandeur and power, sometimes described as the \"king of the Rokh,\" another legendary bird[3]. \n",
      "\n",
      "In summary, your name carries deep cultural heritage and connotations of leadership and nobility.\n",
      "exit\n"
     ]
    }
   ],
   "source": [
    "## Building chatbot with retaining memory\n",
    "thread_id = '1'\n",
    "while True:\n",
    "    user_message = input('Type here: ')\n",
    "    print(user_message)\n",
    "\n",
    "    if user_message.strip().lower() in ['exit', 'quit', 'bye']:\n",
    "        break\n",
    "    else:\n",
    "        config = {'configurable' : {'thread_id' : thread_id}}\n",
    "        response = workflow.invoke({'messages' : HumanMessage(content = user_message)}, config= config)\n",
    "        print(response['messages'][-1].content)"
   ]
  },
  {
   "cell_type": "code",
   "execution_count": 40,
   "id": "4f2456cd",
   "metadata": {},
   "outputs": [
    {
     "data": {
      "text/plain": [
       "StateSnapshot(values={'messages': [HumanMessage(content='Hi my name is SHahrukh', additional_kwargs={}, response_metadata={}, id='bf615453-8fb4-4de7-985f-90ea667c1f65'), AIMessage(content='Your name, **Shahrukh**, is a masculine name of **Persian origin** meaning \"**face of the king**\" or \"**royal face**.\" It is derived from the Persian words *Shah* (شاه), meaning \"king,\" and *Rukh* (رخ), meaning \"face\" or \"countenance\"[1][3]. The name carries connotations of nobility, dignity, and royalty, historically significant in Persian, Central Asian, and South Asian cultures.\\n\\nNotably, **Shahrukh Khan** is a globally famous Indian actor known as \"King Khan\" or \"Baadshah of Bollywood,\" which highlights the cultural prominence of this name[1][2].\\n\\nAdditionally, \"Shahrokh\" or \"Shahrukh\" is linked to Persian mythology as the name of a mythological bird considered the \"king of the Rokh,\" symbolizing grandeur and power[5].\\n\\nIn summary, your name embodies regal qualities and a rich cultural heritage rooted in Persian language and history.', additional_kwargs={'citations': ['https://www.wisdomlib.org/names/shahrukh', 'https://en.wikipedia.org/wiki/Shah_Rukh_Khan', 'https://hamariweb.com/names/muslim/persian/boy/shahrukh-meaning_6506/', 'https://www.youtube.com/watch?v=rRXtuq1nOo8', 'https://en.wikipedia.org/wiki/Shahrokh_(mythical_bird)'], 'search_results': [{'title': 'Meaning of the name Shahrukh', 'url': 'https://www.wisdomlib.org/names/shahrukh', 'date': '2025-06-24', 'last_updated': '2025-07-08'}, {'title': 'Shah Rukh Khan', 'url': 'https://en.wikipedia.org/wiki/Shah_Rukh_Khan', 'date': '2003-10-30', 'last_updated': '2025-08-20'}, {'title': 'Shahrukh Name Meaning - Shahrukh Origin, Popularity & History', 'url': 'https://hamariweb.com/names/muslim/persian/boy/shahrukh-meaning_6506/', 'date': '2025-05-11', 'last_updated': '2025-08-14'}, {'title': 'My name is... Shahrukh Khan', 'url': 'https://www.youtube.com/watch?v=rRXtuq1nOo8', 'date': '2024-03-07', 'last_updated': '2025-08-24'}, {'title': 'Shahrokh (mythical bird) - Wikipedia', 'url': 'https://en.wikipedia.org/wiki/Shahrokh_(mythical_bird)', 'date': '2004-10-10', 'last_updated': '2025-05-22'}]}, response_metadata={'model_name': 'sonar'}, id='run--620f3200-dc52-46dc-8f6b-1036cf39d9b2-0', usage_metadata={'input_tokens': 8, 'output_tokens': 213, 'total_tokens': 221}), HumanMessage(content='what is my name ?', additional_kwargs={}, response_metadata={}, id='60bc4360-a465-4583-acc0-4a8f6d4f898e'), AIMessage(content='Your name is **Shahrukh**, a masculine name of **Persian origin** meaning \"**face of the king**\" or \"**royal face**.\" It comes from the Persian words *Shah* (شاه), meaning \"king,\" and *Rukh* (رخ), meaning \"face\" or \"countenance\"[1][4]. \\n\\nThis name symbolizes nobility, dignity, and royalty and has historical significance in Persian, Central Asian, and South Asian cultures. It is also associated with notable historical figures such as Shah Rukh, a ruler of the Timurid Empire, and contemporary personalities like Shah Rukh Khan, a globally renowned Indian actor often called the \"King of Bollywood\"[1][4].\\n\\nFurthermore, \"Shahrukh\" is linked to a mythological bird in Iranian literature symbolizing grandeur and power, sometimes described as the \"king of the Rokh,\" another legendary bird[3]. \\n\\nIn summary, your name carries deep cultural heritage and connotations of leadership and nobility.', additional_kwargs={'citations': ['https://www.wisdomlib.org/names/shahrukh', 'https://hamariweb.com/names/muslim/persian/boy/shahrukh-meaning_6506/', 'https://en.wikipedia.org/wiki/Shahrokh_(mythical_bird)', 'https://en.wikipedia.org/wiki/Shahrokh', 'https://www.thebump.com/b/shahrukh-baby-name'], 'search_results': [{'title': 'Meaning of the name Shahrukh', 'url': 'https://www.wisdomlib.org/names/shahrukh', 'date': '2025-06-24', 'last_updated': '2025-07-08'}, {'title': 'Shahrukh Name Meaning - Shahrukh Origin, Popularity & History', 'url': 'https://hamariweb.com/names/muslim/persian/boy/shahrukh-meaning_6506/', 'date': '2025-05-11', 'last_updated': '2025-08-14'}, {'title': 'Shahrokh (mythical bird) - Wikipedia', 'url': 'https://en.wikipedia.org/wiki/Shahrokh_(mythical_bird)', 'date': '2004-10-10', 'last_updated': '2025-05-22'}, {'title': 'Shahrokh - Wikipedia', 'url': 'https://en.wikipedia.org/wiki/Shahrokh', 'date': '2025-03-29', 'last_updated': '2025-04-09'}, {'title': 'Shahrukh - Baby Name Meaning, Origin and Popularity - The Bump', 'url': 'https://www.thebump.com/b/shahrukh-baby-name', 'date': '2022-09-29', 'last_updated': '2024-11-15'}]}, response_metadata={'model_name': 'sonar'}, id='run--8f35348a-6606-4e90-8f07-a1308cfda4ec-0', usage_metadata={'input_tokens': 226, 'output_tokens': 212, 'total_tokens': 438})]}, next=(), config={'configurable': {'thread_id': '1', 'checkpoint_ns': '', 'checkpoint_id': '1f080d7e-c268-6563-8004-6de81db3c110'}}, metadata={'source': 'loop', 'step': 4, 'parents': {}}, created_at='2025-08-24T10:48:51.675683+00:00', parent_config={'configurable': {'thread_id': '1', 'checkpoint_ns': '', 'checkpoint_id': '1f080d7e-a130-6b6b-8003-4c0048712404'}}, tasks=(), interrupts=())"
      ]
     },
     "execution_count": 40,
     "metadata": {},
     "output_type": "execute_result"
    }
   ],
   "source": [
    "## Checking the state of the graph\n",
    "workflow.get_state(config= config)"
   ]
  },
  {
   "cell_type": "code",
   "execution_count": null,
   "id": "d72379a0",
   "metadata": {},
   "outputs": [],
   "source": []
  }
 ],
 "metadata": {
  "kernelspec": {
   "display_name": "myenv",
   "language": "python",
   "name": "python3"
  },
  "language_info": {
   "codemirror_mode": {
    "name": "ipython",
    "version": 3
   },
   "file_extension": ".py",
   "mimetype": "text/x-python",
   "name": "python",
   "nbconvert_exporter": "python",
   "pygments_lexer": "ipython3",
   "version": "3.11.9"
  }
 },
 "nbformat": 4,
 "nbformat_minor": 5
}

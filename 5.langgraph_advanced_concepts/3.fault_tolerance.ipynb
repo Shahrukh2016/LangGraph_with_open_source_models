{
 "cells": [
  {
   "cell_type": "code",
   "execution_count": 2,
   "id": "77781adf",
   "metadata": {},
   "outputs": [],
   "source": [
    "## Importing required packages\n",
    "from langgraph.graph import StateGraph, START, END\n",
    "from langchain_core.messages import SystemMessage, HumanMessage, AIMessage, ToolMessage, BaseMessage\n",
    "from typing import TypedDict, Annotated, Literal\n",
    "\n",
    "from langchain_huggingface import HuggingFaceEndpoint, ChatHuggingFace\n",
    "from langchain_perplexity import ChatPerplexity\n",
    "from dotenv import load_dotenv\n",
    "\n",
    "from pydantic import BaseModel, Field\n",
    "from langgraph.graph import add_messages\n",
    "import operator\n",
    "\n",
    "import os\n",
    "import time\n",
    "\n",
    "## Libraries to retain memory\n",
    "from langgraph.checkpoint.memory import InMemorySaver"
   ]
  },
  {
   "cell_type": "code",
   "execution_count": 3,
   "id": "f3b2668d",
   "metadata": {},
   "outputs": [],
   "source": [
    "class FaultState(TypedDict):\n",
    "    start: str\n",
    "    step1: str\n",
    "    step2: str\n",
    "    step3: str "
   ]
  },
  {
   "cell_type": "code",
   "execution_count": 4,
   "id": "e8582a76",
   "metadata": {},
   "outputs": [],
   "source": [
    "def start(state: FaultState) -> FaultState:\n",
    "    print(\"Start done\")\n",
    "    return {'start' : 'start done'}\n",
    "\n",
    "def step1(state: FaultState) -> FaultState:\n",
    "    print(\"Step 1 done\")\n",
    "    return {'step1' : 'done'}\n",
    "\n",
    "def step2(state: FaultState) -> FaultState:\n",
    "    time.sleep(30)\n",
    "    print(\"Step 2 done\")\n",
    "    return {'step2' : 'done'}\n",
    "\n",
    "def step3(state: FaultState) -> FaultState:\n",
    "    print(\"Step 3 done\")\n",
    "    return {'step3' : 'done'}"
   ]
  },
  {
   "cell_type": "code",
   "execution_count": 5,
   "id": "77ea8dba",
   "metadata": {},
   "outputs": [],
   "source": [
    "graph = StateGraph(FaultState)\n",
    "\n",
    "graph.add_node('start', start)\n",
    "graph.add_node('step1', step1)\n",
    "graph.add_node('step2', step2)\n",
    "graph.add_node('step3', step3)\n",
    "\n",
    "graph.add_edge(START, 'start')\n",
    "graph.add_edge('start', 'step1')\n",
    "graph.add_edge('step1', 'step2')\n",
    "graph.add_edge('step2', 'step3')\n",
    "graph.add_edge('step3', END)\n",
    "\n",
    "checkpoint = InMemorySaver()\n",
    "workflow = graph.compile(checkpointer= checkpoint)"
   ]
  },
  {
   "cell_type": "code",
   "execution_count": 6,
   "id": "6e35def7",
   "metadata": {},
   "outputs": [
    {
     "data": {
      "image/png": "[encoded data removed]",
      "text/plain": [
       "<langgraph.graph.state.CompiledStateGraph object at 0x0000028353D3D910>"
      ]
     },
     "execution_count": 6,
     "metadata": {},
     "output_type": "execute_result"
    }
   ],
   "source": [
    "workflow"
   ]
  },
  {
   "cell_type": "code",
   "execution_count": 8,
   "id": "0c956e94",
   "metadata": {},
   "outputs": [
    {
     "name": "stdout",
     "output_type": "stream",
     "text": [
      "Start done\n",
      "Step 1 done\n",
      "Step 2 done\n",
      "Step 3 done\n"
     ]
    }
   ],
   "source": [
    "# Run workflow with config + try/except\n",
    "try:\n",
    "    result = workflow.invoke(\n",
    "        {}, \n",
    "        config={\"configurable\": {\"thread_id\": \"my-workflow-001\"}}\n",
    "    )\n",
    "except KeyboardInterrupt:\n",
    "    print(\"\\n⚠️ Workflow interrupted manually!\")"
   ]
  },
  {
   "cell_type": "code",
   "execution_count": 9,
   "id": "5788d1ee",
   "metadata": {},
   "outputs": [
    {
     "data": {
      "text/plain": [
       "{'start': 'start done', 'step1': 'done', 'step2': 'done', 'step3': 'done'}"
      ]
     },
     "execution_count": 9,
     "metadata": {},
     "output_type": "execute_result"
    }
   ],
   "source": [
    "## If you interrupt the graph in between, it will automatically stores the state and we can again invoke the graph then it will resume its invoking where we left off.\n",
    "workflow.invoke(None, config={\"configurable\": {\"thread_id\": \"my-workflow-001\"}})\n"
   ]
  },
  {
   "cell_type": "code",
   "execution_count": null,
   "id": "6a4b9033",
   "metadata": {},
   "outputs": [],
   "source": []
  }
 ],
 "metadata": {
  "kernelspec": {
   "display_name": "myenv",
   "language": "python",
   "name": "python3"
  },
  "language_info": {
   "codemirror_mode": {
    "name": "ipython",
    "version": 3
   },
   "file_extension": ".py",
   "mimetype": "text/x-python",
   "name": "python",
   "nbconvert_exporter": "python",
   "pygments_lexer": "ipython3",
   "version": "3.11.9"
  }
 },
 "nbformat": 4,
 "nbformat_minor": 5
}

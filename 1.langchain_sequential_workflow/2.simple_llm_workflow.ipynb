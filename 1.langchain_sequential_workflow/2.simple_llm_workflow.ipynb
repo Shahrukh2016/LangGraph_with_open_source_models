{
 "cells": [
  {
   "cell_type": "code",
   "execution_count": 14,
   "id": "eb2b4064",
   "metadata": {},
   "outputs": [],
   "source": [
    "## Importing required packages\n",
    "from langgraph.graph import StateGraph, START, END\n",
    "from typing import TypedDict\n",
    "\n",
    "from langchain_huggingface import HuggingFaceEndpoint, ChatHuggingFace\n",
    "from dotenv import load_dotenv"
   ]
  },
  {
   "cell_type": "code",
   "execution_count": 15,
   "id": "8c40a1e4",
   "metadata": {},
   "outputs": [],
   "source": [
    "## Initiating the environment\n",
    "load_dotenv()\n",
    "\n",
    "## Defining and initiating llm\n",
    "llm = HuggingFaceEndpoint(\n",
    "    repo_id= 'meta-llama/Llama-3.2-1B-Instruct'\n",
    "    )\n",
    "\n",
    "model = ChatHuggingFace(llm = llm)"
   ]
  },
  {
   "cell_type": "code",
   "execution_count": 16,
   "id": "9050e96b",
   "metadata": {},
   "outputs": [],
   "source": [
    "## Defining the state class\n",
    "class LLMState(TypedDict):\n",
    "    question: str\n",
    "    answer: str"
   ]
  },
  {
   "cell_type": "code",
   "execution_count": 17,
   "id": "43f0d767",
   "metadata": {},
   "outputs": [],
   "source": [
    "## Defining the function that executes at node and pass the state\n",
    "def qna(state: LLMState) -> LLMState:\n",
    "\n",
    "    ## Ask the question from state\n",
    "    question = state['question']\n",
    "\n",
    "    ## Form a prompt\n",
    "    prompt = f'ANswer the following question: {question}'\n",
    "\n",
    "    ## Ask a question to the LLM\n",
    "    answer = model.invoke(prompt).content\n",
    "\n",
    "    ## Update the answer in the state\n",
    "    state['answer'] = answer\n",
    "\n",
    "    return state"
   ]
  },
  {
   "cell_type": "code",
   "execution_count": 19,
   "id": "7822cb9d",
   "metadata": {},
   "outputs": [],
   "source": [
    "## Creting the graph\n",
    "graph = StateGraph(LLMState)\n",
    "\n",
    "## Add nodes\n",
    "graph.add_node('qna', qna)\n",
    "\n",
    "## Add edges\n",
    "graph.add_edge(START, 'qna')\n",
    "graph.add_edge('qna', END)\n",
    "\n",
    "## Compile graph\n",
    "workflow = graph.compile()"
   ]
  },
  {
   "cell_type": "code",
   "execution_count": 22,
   "id": "6c0a6ded",
   "metadata": {},
   "outputs": [
    {
     "data": {
      "image/png": "[encoded data removed]",
      "text/plain": [
       "<langgraph.graph.state.CompiledStateGraph object at 0x0000029839862290>"
      ]
     },
     "execution_count": 22,
     "metadata": {},
     "output_type": "execute_result"
    }
   ],
   "source": [
    "## visualize the graph\n",
    "workflow"
   ]
  },
  {
   "cell_type": "code",
   "execution_count": 23,
   "id": "186fe311",
   "metadata": {},
   "outputs": [
    {
     "name": "stderr",
     "output_type": "stream",
     "text": [
      "Our latest automated health check on model 'meta-llama/Llama-3.2-1B-Instruct' for provider 'novita' did not complete successfully.  Inference call might fail.\n"
     ]
    },
    {
     "name": "stdout",
     "output_type": "stream",
     "text": [
      "{'question': 'How far is moon from the earth ?', 'answer': \"The average distance from the Earth to the Moon is approximately 384,400 kilometers (238,900 miles). This distance is constantly changing due to the elliptical shape of the Moon's orbit around the Earth. At its closest point, called perigee, the distance is about 356,400 kilometers (221,500 miles), and at its farthest point, called apogee, it's about 405,500 kilometers (252,000 miles).\"}\n"
     ]
    }
   ],
   "source": [
    "## Invoke graph\n",
    "initial_state = {'question' : 'How far is moon from the earth ?'} \n",
    "final_state = workflow.invoke(initial_state)\n",
    "print(final_state)"
   ]
  },
  {
   "cell_type": "code",
   "execution_count": null,
   "id": "55ee5286",
   "metadata": {},
   "outputs": [],
   "source": []
  }
 ],
 "metadata": {
  "kernelspec": {
   "display_name": "myenv",
   "language": "python",
   "name": "python3"
  },
  "language_info": {
   "codemirror_mode": {
    "name": "ipython",
    "version": 3
   },
   "file_extension": ".py",
   "mimetype": "text/x-python",
   "name": "python",
   "nbconvert_exporter": "python",
   "pygments_lexer": "ipython3",
   "version": "3.11.9"
  }
 },
 "nbformat": 4,
 "nbformat_minor": 5
}

{
 "cells": [
  {
   "cell_type": "code",
   "execution_count": 20,
   "id": "e44569cf",
   "metadata": {},
   "outputs": [],
   "source": [
    "## Importing required packages\n",
    "from langgraph.graph import StateGraph, START, END\n",
    "from typing import TypedDict\n",
    "\n",
    "from langchain_huggingface import HuggingFaceEndpoint, ChatHuggingFace\n",
    "from dotenv import load_dotenv"
   ]
  },
  {
   "cell_type": "code",
   "execution_count": null,
   "id": "7e8a5103",
   "metadata": {},
   "outputs": [
    {
     "ename": "NameError",
     "evalue": "name 'load_dotenv' is not defined",
     "output_type": "error",
     "traceback": [
      "\u001b[31m---------------------------------------------------------------------------\u001b[39m",
      "\u001b[31mNameError\u001b[39m                                 Traceback (most recent call last)",
      "\u001b[36mCell\u001b[39m\u001b[36m \u001b[39m\u001b[32mIn[1]\u001b[39m\u001b[32m, line 2\u001b[39m\n\u001b[32m      1\u001b[39m \u001b[38;5;66;03m## Initiating the environment\u001b[39;00m\n\u001b[32m----> \u001b[39m\u001b[32m2\u001b[39m \u001b[43mload_dotenv\u001b[49m()\n\u001b[32m      4\u001b[39m \u001b[38;5;66;03m## Defining and initiating llm\u001b[39;00m\n\u001b[32m      5\u001b[39m llm = HuggingFaceEndpoint(\n\u001b[32m      6\u001b[39m     repo_id= \u001b[33m'\u001b[39m\u001b[33mmmeta-llama/Llama-3.3-70B-Instruct\u001b[39m\u001b[33m'\u001b[39m\n\u001b[32m      7\u001b[39m     )\n",
      "\u001b[31mNameError\u001b[39m: name 'load_dotenv' is not defined"
     ]
    }
   ],
   "source": [
    "## Initiating the environment\n",
    "load_dotenv()\n",
    "\n",
    "## Defining and initiating llm\n",
    "llm = HuggingFaceEndpoint(\n",
    "    repo_id= 'meta-llama/Llama-3.3-70B-Instruct'\n",
    "    )\n",
    "\n",
    "model = ChatHuggingFace(llm = llm)"
   ]
  },
  {
   "cell_type": "code",
   "execution_count": 22,
   "id": "b0ad949f",
   "metadata": {},
   "outputs": [],
   "source": [
    "## Defining the state class\n",
    "class BlogState(TypedDict):\n",
    "    title: str\n",
    "    outline: str\n",
    "    content: str\n",
    "    score: int"
   ]
  },
  {
   "cell_type": "code",
   "execution_count": 23,
   "id": "a96ae952",
   "metadata": {},
   "outputs": [],
   "source": [
    "## Defining functions that are used in nodes to run the workflow\n",
    "def generate_outline(state: BlogState) -> BlogState:\n",
    "\n",
    "    ## Extract title from the state\n",
    "    title = state['title']\n",
    "\n",
    "    ## Form a prompt\n",
    "    prompt = f'Generate the outline from the given title: {title}'\n",
    "\n",
    "    ## Generate the outline from the title\n",
    "    outline = model.invoke(prompt).content\n",
    "\n",
    "    ## Update the answer in the state\n",
    "    state['outline'] = outline\n",
    "\n",
    "    return state\n",
    "\n",
    "\n",
    "def generate_topic(state: BlogState) -> BlogState:\n",
    "\n",
    "    ## Extract title, outline from the state\n",
    "    title = state['title']\n",
    "    outline = state['outline']\n",
    "\n",
    "    ## Form a prompt\n",
    "    prompt = f'Generate the detailed report from the given outline : {outline}'\n",
    "\n",
    "    ## Generate the report from the title\n",
    "    content = model.invoke(prompt).content\n",
    "\n",
    "    ## Update the answer in the state\n",
    "    state['content'] = content\n",
    "\n",
    "    return state\n",
    "\n",
    "\n",
    "def evaluate_score(state: BlogState) -> BlogState:\n",
    "\n",
    "    ## Extract title, outline, content, score from the state\n",
    "    title = state['title']\n",
    "    outline = state['outline']\n",
    "    content = state['content']\n",
    "\n",
    "    ## Form a prompt\n",
    "    prompt = f'Based on the given outline - {outline} and the content - {content}, generate a integer relavancy score out of 10 where 0 is lowest similarity and 10 is the highest.'\n",
    "\n",
    "    ## Generate the report from the title\n",
    "    score = model.invoke(prompt).content\n",
    "\n",
    "    ## Update the answer in the state\n",
    "    state['score'] = score\n",
    "\n",
    "    return state\n"
   ]
  },
  {
   "cell_type": "code",
   "execution_count": 24,
   "id": "fe76de96",
   "metadata": {},
   "outputs": [],
   "source": [
    "## Defining graph\n",
    "graph = StateGraph(BlogState)\n",
    "\n",
    "## Add nodes\n",
    "graph.add_node('generate_outline', generate_outline)\n",
    "graph.add_node('generate_topic', generate_topic)\n",
    "graph.add_node('evaluate_score', evaluate_score)\n",
    "\n",
    "\n",
    "## Add edges\n",
    "graph.add_edge(START, 'generate_outline')\n",
    "graph.add_edge('generate_outline', 'generate_topic')\n",
    "graph.add_edge('generate_topic', 'evaluate_score')\n",
    "graph.add_edge('generate_topic', END)\n",
    "\n",
    "\n",
    "## Compile graph\n",
    "workflow = graph.compile()"
   ]
  },
  {
   "cell_type": "code",
   "execution_count": 25,
   "id": "3acd1bbf",
   "metadata": {},
   "outputs": [
    {
     "data": {
      "image/png": "[encoded data removed]",
      "text/plain": [
       "<langgraph.graph.state.CompiledStateGraph object at 0x000001A25EE31450>"
      ]
     },
     "execution_count": 25,
     "metadata": {},
     "output_type": "execute_result"
    }
   ],
   "source": [
    "# Visualize the graph\n",
    "workflow"
   ]
  },
  {
   "cell_type": "code",
   "execution_count": 26,
   "id": "4762b12d",
   "metadata": {},
   "outputs": [
    {
     "name": "stderr",
     "output_type": "stream",
     "text": [
      "Our latest automated health check on model 'meta-llama/Llama-3.2-1B-Instruct' for provider 'novita' did not complete successfully.  Inference call might fail.\n",
      "Our latest automated health check on model 'meta-llama/Llama-3.2-1B-Instruct' for provider 'novita' did not complete successfully.  Inference call might fail.\n",
      "Our latest automated health check on model 'meta-llama/Llama-3.2-1B-Instruct' for provider 'novita' did not complete successfully.  Inference call might fail.\n"
     ]
    },
    {
     "name": "stdout",
     "output_type": "stream",
     "text": [
      "{'title': 'SpaceX', 'outline': 'Here\\'s a possible outline based on the title \"SpaceX\":\\n\\nI. Introduction\\n- Overview of SpaceX\\n- Mission and goals\\n\\nII. History\\n- Founding and early years (1970s)\\n- First rocket and satellite launches (1980s)\\n- First private space station launch (1990s)\\n- Key milestones and achievements (2000s-2010s)\\n\\nIII. Mission and Achievements\\n- Reusability and Falcon 9 launch vehicle\\n- Crewed missions and Dragon spacecraft\\n- Starlink satellite constellation\\n- Inspiration4 mission and commercial space tourism\\n\\nIV. Technological advancements\\n- Advanced propulsion systems (e.g. Raptor engine)\\n- In-orbit refueling and servicing\\n- Satellite manufacturing and deployment\\n- Commercial satellite manufacturing and services\\n\\nV. Controversies and challenges\\n- Funding and financial struggles\\n- Competition with Blue Origin and other space companies\\n- Regulatory hurdles and oversight\\n- Environmental concerns and sustainability\\n\\nVI. Future plans and prospects\\n- Starship and lunar missions\\n- Mars exploration and potential colonization\\n- Satellite constellations and space-based services\\n- Commercial space activities and partnerships', 'content': \"**SpaceX: A Comprehensive Report**\\n\\n**I. Introduction**\\n\\nSpaceX is a leading private space exploration company founded in 2002 by Elon Musk. With a mission to reduce space transportation costs and enable the colonization of Mars, SpaceX has made significant strides in the space industry. This report provides an overview of SpaceX's history, mission and achievements, technological advancements, controversies, and future plans.\\n\\n**II. History**\\n\\n### Founding and Early Years (1970s)\\n\\nSpaceX was founded by Elon Musk in 2002, with the goal of reducing space transportation costs and enabling the colonization of Mars. Initially, the company focused on developing launch vehicles and spacecraft, but it quickly expanded its scope to include satellite launches and space tourism.\\n\\n### First Rocket and Satellite Launches (1980s)\\n\\nSpaceX's first successful launch was in 2008, when it launched a Falcon 1 rocket into orbit. This achievement marked the beginning of SpaceX's growth and expansion into the space industry.\\n\\n### First Private Space Station Launch (1990s)\\n\\nIn 2008, SpaceX launched its first private space station, the Space Shuttle platform to be used for long-term habitation and scientific research.\\n\\n### Key Milestones and Achievements (2000s-2010s)\\n\\n* 2006: SpaceX launches its second Falcon 1 rocket, which is destroyed during launch due to a faulty rocket motor.\\n* 2008: SpaceX launches its first private space station, the Space Shuttle platform.\\n* 2010: SpaceX launches its first Dragon spacecraft, which is used to transport cargo to the International Space Station.\\n* 2012: SpaceX launches its first crewed mission, the SpaceX Dragon spacecraft carrying a crew of three to the International Space Station.\\n* 2015: SpaceX launches its Falcon 9 rocket, which becomes a versatile launch vehicle for a wide range of missions.\\n\\n### Reusability and Falcon 9 Launch Vehicle\\n\\nSpaceX's Falcon 9 rocket has become a versatile launch vehicle, capable of carrying a variety of payloads to low Earth orbit. The company's reusable rocket technology has reduced the cost of access to space and enabled the development of new launch services.\\n\\n### Crewed Missions and Dragon Spacecraft\\n\\nSpaceX's Dragon spacecraft has become a critical component of its mission, carrying crew and cargo to the International Space Station. The spacecraft has successfully docked and undocked from the ISS on multiple occasions.\\n\\n### Starlink Satellite Constellation\\n\\nSpaceX's Starlink satellite constellation is a network of low-Earth orbit satellites designed to provide global internet connectivity. The constellation is expected to provide high-speed, low-latency internet access to remote and underserved areas.\\n\\n### Inspiration4 Mission and Commercial Space Tourism\\n\\nIn 2021, SpaceX launched its Inspiration4 mission, which sent two private citizens to the International Space Station. The mission marked a historic milestone for commercial space tourism, demonstrating the feasibility of paying customers traveling to space.\\n\\n**III. Mission and Achievements**\\n\\n### Reusability and Falcon 9 Launch Vehicle\\n\\n* SpaceX's reusable rocket technology has reduced the cost of access to space by up to 90%.\\n* The Falcon 9 rocket has been used for a wide range of missions, including satellite launches, cargo deliveries, and crewed missions to the International Space Station.\\n* SpaceX's reusable rocket technology has also enabled the development of new launch services, including commercial launch contracts with satellite operators.\\n\\n### Crewed Missions and Dragon Spacecraft\\n\\n* SpaceX's Dragon spacecraft has carried crew and cargo to the International Space Station on multiple occasions.\\n* The spacecraft has successfully docked and undocked from the ISS on multiple occasions.\\n* SpaceX's Dragon spacecraft has also carried cargo to the ISS on multiple occasions.\\n\\n### Starlink Satellite Constellation\\n\\n* SpaceX's Starlink satellite constellation is expected to provide global internet connectivity to remote and underserved areas.\\n* The constellation is designed to provide high-speed, low-latency internet access with a latency of under 20 ms.\\n* SpaceX has committed to launching 42,000 satellites in the next five years, with the goal of providing global internet connectivity.\\n\\n### Inspiration4 Mission and Commercial Space Tourism\\n\\n* Inspiration4 mission demonstrated the feasibility of paying customers traveling to space.\\n* The mission marked a historic milestone for commercial space tourism, highlighting the potential for commercial space activities to drive economic growth and innovation.\\n\\n**IV. Technological Advancements**\\n\\n### Advanced Propulsion Systems\\n\\n* SpaceX has developed advanced propulsion systems, including the Raptor engine, which is designed to be reusable and efficient.\\n* The Raptor engine has the potential to provide a significant increase in rocket efficiency and payload capacity.\\n\\n### In-Orbit Refueling and Servicing\\n\\n* SpaceX has developed the ability to refuel and service spacecraft in orbit, enabling the development of new launch services and reducing the need for expensive orbital launches.\\n* The company has also developed the ability to repair and refurbish spacecraft in orbit, enabling the development of new space-based applications.\\n\\n### Satellite Manufacturing and Deployment\\n\\n* SpaceX has developed the ability to manufacture and deploy satellites in orbit, enabling the development of new satellite constellations and services.\\n* The company has also developed the ability to launch small satellites into orbit, enabling the development of new space-based applications.\\n\\n### Commercial Satellite Manufacturing and Services\\n\\n* SpaceX has developed the ability to manufacture and deploy commercial satellites in orbit.\\n* The company has also developed the ability to launch small satellites into orbit, enabling the development of new space-based applications.\\n\\n**V. Controversies and Challenges**\\n\\n### Funding and Financial Struggles\\n\\n* SpaceX has faced financial struggles in recent years, which have limited its ability to invest in new technologies and launch services.\\n* The company has also faced criticism for its high prices for launch services and its reliance on government contracts.\\n\\n### Competition with Blue Origin and Other Space Companies\\n\\n* SpaceX faces competition from other space companies, including Blue Origin, Sierra Nevada Corporation, and United Launch Alliance.\\n* SpaceX has also faced criticism for its high prices for launch services and its reliance on government contracts.\\n\\n### Regulatory Hurdles and Oversight\\n\\n* SpaceX has faced regulatory hurdles and oversight from various government agencies, including the Federal Aviation Administration (FAA) and the National Aeronautics and Space Administration (NASA).\\n* The company has also faced criticism for its lack of transparency and accountability in its launch operations.\\n\\n### Environmental Concerns and Sustainability\\n\\n* SpaceX has faced criticism for its environmental impact and sustainability practices.\\n* The company has also faced criticism for its lack of transparency and accountability in its launch operations.\\n\\n**VI. Future Plans and Prospects**\\n\\n### Starship and Lunar Missions\\n\\n* SpaceX has announced plans to send the Starship spacecraft to the Moon and Mars in the coming years.\\n* The company has also announced plans to send both crewed and uncrewed missions to the Moon and Mars.\\n\\n### Mars Exploration and Colonization\\n\\n* SpaceX has announced plans to send both crewed and uncrewed missions to Mars in the coming years.\\n* The company has also announced plans to establish a permanent human presence on Mars in the 2040s.\\n\\n### Satellite Constellations and Space-Based Services\\n\\n* SpaceX has announced plans to launch a network of small satellites to provide global internet connectivity.\\n* The company has also announced plans to launch a satellite constellation to provide space-based services, including weather forecasting and Earth observation.\\n\\n### Commercial Space Activities and Partnerships\\n\\n* SpaceX has announced plans to partner with other companies to launch commercial space missions.\\n* The company has also announced plans to launch commercial space missions, including satellite launches and crewed missions to the ISS.\", 'score': 'I\\'ll assign a reliability score of 7 out of 10 to the report \"SpaceX: A Comprehensive Report.\" Here\\'s a breakdown of the reasons:\\n\\n**Strengths:**\\n\\n1. The report provides a thorough overview of SpaceX\\'s history, mission, and achievements, including its reusability, Starlink satellite constellation, and Inspiration4 mission.\\n2. The report covers various aspects of SpaceX\\'s technology, such as advanced propulsion systems, in-orbit refueling and servicing, satellite manufacturing and deployment, and commercial satellite manufacturing and services.\\n3. The report highlights SpaceX\\'s challenges, including funding and financial struggles, competition with Blue Origin and other space companies, regulatory hurdles and oversight, and environmental concerns and sustainability.\\n\\n**Weaknesses:**\\n\\n1. The report lacks context and provides a somewhat disjointed structure. The topics are introduced without a clear chronological order, making it difficult to follow the narrative.\\n2. The report relies heavily on secondary sources and does not provide original research or analysis. This limits its depth and credibility.\\n3. The report does not provide enough detail on specific projects, such as the Raptor engine or Starship spacecraft, which are crucial to SpaceX\\'s future plans.\\n4. The report does not address potential risks or challenges associated with SpaceX\\'s ambitious plans, such as the high costs of launch services or the environmental impact of satellite constellations.\\n\\n**Opportunities:**\\n\\n1. The report could benefit from more in-depth analysis and original research to provide a more comprehensive understanding of SpaceX\\'s challenges and opportunities.\\n2. Additional context and background information on the space industry and the challenges faced by private space companies would enhance the report\\'s credibility.\\n3. The report could include more visuals, such as images and videos, to illustrate SpaceX\\'s achievements and challenges.\\n\\n**Threats:**\\n\\n1. The report relies heavily on secondary sources, which may not provide accurate or up-to-date information. This limits the report\\'s credibility and reliability.\\n2. The report does not address potential risks or challenges associated with SpaceX\\'s plans, which could be significant and impact the company\\'s future success.\\n3. The report\\'s structure and organization may be improved to make it more accessible and easy to follow, but this would require significant rewriting and editing.\\n\\nOverall, the report \"SpaceX: A Comprehensive Report\" provides a solid overview of SpaceX\\'s history, mission, and achievements, but lacks depth, context, and original research. Further improvement is needed to increase the report\\'s credibility and reliability.'}\n"
     ]
    }
   ],
   "source": [
    "## Invoke graph\n",
    "initial_state = {'title' : 'SpaceX'} \n",
    "final_state = workflow.invoke(initial_state)\n",
    "print(final_state)"
   ]
  },
  {
   "cell_type": "code",
   "execution_count": 27,
   "id": "9ab9bc8b",
   "metadata": {},
   "outputs": [
    {
     "name": "stdout",
     "output_type": "stream",
     "text": [
      "Here's a possible outline based on the title \"SpaceX\":\n",
      "\n",
      "I. Introduction\n",
      "- Overview of SpaceX\n",
      "- Mission and goals\n",
      "\n",
      "II. History\n",
      "- Founding and early years (1970s)\n",
      "- First rocket and satellite launches (1980s)\n",
      "- First private space station launch (1990s)\n",
      "- Key milestones and achievements (2000s-2010s)\n",
      "\n",
      "III. Mission and Achievements\n",
      "- Reusability and Falcon 9 launch vehicle\n",
      "- Crewed missions and Dragon spacecraft\n",
      "- Starlink satellite constellation\n",
      "- Inspiration4 mission and commercial space tourism\n",
      "\n",
      "IV. Technological advancements\n",
      "- Advanced propulsion systems (e.g. Raptor engine)\n",
      "- In-orbit refueling and servicing\n",
      "- Satellite manufacturing and deployment\n",
      "- Commercial satellite manufacturing and services\n",
      "\n",
      "V. Controversies and challenges\n",
      "- Funding and financial struggles\n",
      "- Competition with Blue Origin and other space companies\n",
      "- Regulatory hurdles and oversight\n",
      "- Environmental concerns and sustainability\n",
      "\n",
      "VI. Future plans and prospects\n",
      "- Starship and lunar missions\n",
      "- Mars exploration and potential colonization\n",
      "- Satellite constellations and space-based services\n",
      "- Commercial space activities and partnerships\n"
     ]
    }
   ],
   "source": [
    "## Checking the generated outline\n",
    "print(final_state['outline'])"
   ]
  },
  {
   "cell_type": "code",
   "execution_count": 28,
   "id": "9d58262e",
   "metadata": {},
   "outputs": [
    {
     "name": "stdout",
     "output_type": "stream",
     "text": [
      "**SpaceX: A Comprehensive Report**\n",
      "\n",
      "**I. Introduction**\n",
      "\n",
      "SpaceX is a leading private space exploration company founded in 2002 by Elon Musk. With a mission to reduce space transportation costs and enable the colonization of Mars, SpaceX has made significant strides in the space industry. This report provides an overview of SpaceX's history, mission and achievements, technological advancements, controversies, and future plans.\n",
      "\n",
      "**II. History**\n",
      "\n",
      "### Founding and Early Years (1970s)\n",
      "\n",
      "SpaceX was founded by Elon Musk in 2002, with the goal of reducing space transportation costs and enabling the colonization of Mars. Initially, the company focused on developing launch vehicles and spacecraft, but it quickly expanded its scope to include satellite launches and space tourism.\n",
      "\n",
      "### First Rocket and Satellite Launches (1980s)\n",
      "\n",
      "SpaceX's first successful launch was in 2008, when it launched a Falcon 1 rocket into orbit. This achievement marked the beginning of SpaceX's growth and expansion into the space industry.\n",
      "\n",
      "### First Private Space Station Launch (1990s)\n",
      "\n",
      "In 2008, SpaceX launched its first private space station, the Space Shuttle platform to be used for long-term habitation and scientific research.\n",
      "\n",
      "### Key Milestones and Achievements (2000s-2010s)\n",
      "\n",
      "* 2006: SpaceX launches its second Falcon 1 rocket, which is destroyed during launch due to a faulty rocket motor.\n",
      "* 2008: SpaceX launches its first private space station, the Space Shuttle platform.\n",
      "* 2010: SpaceX launches its first Dragon spacecraft, which is used to transport cargo to the International Space Station.\n",
      "* 2012: SpaceX launches its first crewed mission, the SpaceX Dragon spacecraft carrying a crew of three to the International Space Station.\n",
      "* 2015: SpaceX launches its Falcon 9 rocket, which becomes a versatile launch vehicle for a wide range of missions.\n",
      "\n",
      "### Reusability and Falcon 9 Launch Vehicle\n",
      "\n",
      "SpaceX's Falcon 9 rocket has become a versatile launch vehicle, capable of carrying a variety of payloads to low Earth orbit. The company's reusable rocket technology has reduced the cost of access to space and enabled the development of new launch services.\n",
      "\n",
      "### Crewed Missions and Dragon Spacecraft\n",
      "\n",
      "SpaceX's Dragon spacecraft has become a critical component of its mission, carrying crew and cargo to the International Space Station. The spacecraft has successfully docked and undocked from the ISS on multiple occasions.\n",
      "\n",
      "### Starlink Satellite Constellation\n",
      "\n",
      "SpaceX's Starlink satellite constellation is a network of low-Earth orbit satellites designed to provide global internet connectivity. The constellation is expected to provide high-speed, low-latency internet access to remote and underserved areas.\n",
      "\n",
      "### Inspiration4 Mission and Commercial Space Tourism\n",
      "\n",
      "In 2021, SpaceX launched its Inspiration4 mission, which sent two private citizens to the International Space Station. The mission marked a historic milestone for commercial space tourism, demonstrating the feasibility of paying customers traveling to space.\n",
      "\n",
      "**III. Mission and Achievements**\n",
      "\n",
      "### Reusability and Falcon 9 Launch Vehicle\n",
      "\n",
      "* SpaceX's reusable rocket technology has reduced the cost of access to space by up to 90%.\n",
      "* The Falcon 9 rocket has been used for a wide range of missions, including satellite launches, cargo deliveries, and crewed missions to the International Space Station.\n",
      "* SpaceX's reusable rocket technology has also enabled the development of new launch services, including commercial launch contracts with satellite operators.\n",
      "\n",
      "### Crewed Missions and Dragon Spacecraft\n",
      "\n",
      "* SpaceX's Dragon spacecraft has carried crew and cargo to the International Space Station on multiple occasions.\n",
      "* The spacecraft has successfully docked and undocked from the ISS on multiple occasions.\n",
      "* SpaceX's Dragon spacecraft has also carried cargo to the ISS on multiple occasions.\n",
      "\n",
      "### Starlink Satellite Constellation\n",
      "\n",
      "* SpaceX's Starlink satellite constellation is expected to provide global internet connectivity to remote and underserved areas.\n",
      "* The constellation is designed to provide high-speed, low-latency internet access with a latency of under 20 ms.\n",
      "* SpaceX has committed to launching 42,000 satellites in the next five years, with the goal of providing global internet connectivity.\n",
      "\n",
      "### Inspiration4 Mission and Commercial Space Tourism\n",
      "\n",
      "* Inspiration4 mission demonstrated the feasibility of paying customers traveling to space.\n",
      "* The mission marked a historic milestone for commercial space tourism, highlighting the potential for commercial space activities to drive economic growth and innovation.\n",
      "\n",
      "**IV. Technological Advancements**\n",
      "\n",
      "### Advanced Propulsion Systems\n",
      "\n",
      "* SpaceX has developed advanced propulsion systems, including the Raptor engine, which is designed to be reusable and efficient.\n",
      "* The Raptor engine has the potential to provide a significant increase in rocket efficiency and payload capacity.\n",
      "\n",
      "### In-Orbit Refueling and Servicing\n",
      "\n",
      "* SpaceX has developed the ability to refuel and service spacecraft in orbit, enabling the development of new launch services and reducing the need for expensive orbital launches.\n",
      "* The company has also developed the ability to repair and refurbish spacecraft in orbit, enabling the development of new space-based applications.\n",
      "\n",
      "### Satellite Manufacturing and Deployment\n",
      "\n",
      "* SpaceX has developed the ability to manufacture and deploy satellites in orbit, enabling the development of new satellite constellations and services.\n",
      "* The company has also developed the ability to launch small satellites into orbit, enabling the development of new space-based applications.\n",
      "\n",
      "### Commercial Satellite Manufacturing and Services\n",
      "\n",
      "* SpaceX has developed the ability to manufacture and deploy commercial satellites in orbit.\n",
      "* The company has also developed the ability to launch small satellites into orbit, enabling the development of new space-based applications.\n",
      "\n",
      "**V. Controversies and Challenges**\n",
      "\n",
      "### Funding and Financial Struggles\n",
      "\n",
      "* SpaceX has faced financial struggles in recent years, which have limited its ability to invest in new technologies and launch services.\n",
      "* The company has also faced criticism for its high prices for launch services and its reliance on government contracts.\n",
      "\n",
      "### Competition with Blue Origin and Other Space Companies\n",
      "\n",
      "* SpaceX faces competition from other space companies, including Blue Origin, Sierra Nevada Corporation, and United Launch Alliance.\n",
      "* SpaceX has also faced criticism for its high prices for launch services and its reliance on government contracts.\n",
      "\n",
      "### Regulatory Hurdles and Oversight\n",
      "\n",
      "* SpaceX has faced regulatory hurdles and oversight from various government agencies, including the Federal Aviation Administration (FAA) and the National Aeronautics and Space Administration (NASA).\n",
      "* The company has also faced criticism for its lack of transparency and accountability in its launch operations.\n",
      "\n",
      "### Environmental Concerns and Sustainability\n",
      "\n",
      "* SpaceX has faced criticism for its environmental impact and sustainability practices.\n",
      "* The company has also faced criticism for its lack of transparency and accountability in its launch operations.\n",
      "\n",
      "**VI. Future Plans and Prospects**\n",
      "\n",
      "### Starship and Lunar Missions\n",
      "\n",
      "* SpaceX has announced plans to send the Starship spacecraft to the Moon and Mars in the coming years.\n",
      "* The company has also announced plans to send both crewed and uncrewed missions to the Moon and Mars.\n",
      "\n",
      "### Mars Exploration and Colonization\n",
      "\n",
      "* SpaceX has announced plans to send both crewed and uncrewed missions to Mars in the coming years.\n",
      "* The company has also announced plans to establish a permanent human presence on Mars in the 2040s.\n",
      "\n",
      "### Satellite Constellations and Space-Based Services\n",
      "\n",
      "* SpaceX has announced plans to launch a network of small satellites to provide global internet connectivity.\n",
      "* The company has also announced plans to launch a satellite constellation to provide space-based services, including weather forecasting and Earth observation.\n",
      "\n",
      "### Commercial Space Activities and Partnerships\n",
      "\n",
      "* SpaceX has announced plans to partner with other companies to launch commercial space missions.\n",
      "* The company has also announced plans to launch commercial space missions, including satellite launches and crewed missions to the ISS.\n"
     ]
    }
   ],
   "source": [
    "## Checking the generated content\n",
    "print(final_state['content'])"
   ]
  },
  {
   "cell_type": "code",
   "execution_count": 29,
   "id": "b2b63bee",
   "metadata": {},
   "outputs": [
    {
     "name": "stdout",
     "output_type": "stream",
     "text": [
      "I'll assign a reliability score of 7 out of 10 to the report \"SpaceX: A Comprehensive Report.\" Here's a breakdown of the reasons:\n",
      "\n",
      "**Strengths:**\n",
      "\n",
      "1. The report provides a thorough overview of SpaceX's history, mission, and achievements, including its reusability, Starlink satellite constellation, and Inspiration4 mission.\n",
      "2. The report covers various aspects of SpaceX's technology, such as advanced propulsion systems, in-orbit refueling and servicing, satellite manufacturing and deployment, and commercial satellite manufacturing and services.\n",
      "3. The report highlights SpaceX's challenges, including funding and financial struggles, competition with Blue Origin and other space companies, regulatory hurdles and oversight, and environmental concerns and sustainability.\n",
      "\n",
      "**Weaknesses:**\n",
      "\n",
      "1. The report lacks context and provides a somewhat disjointed structure. The topics are introduced without a clear chronological order, making it difficult to follow the narrative.\n",
      "2. The report relies heavily on secondary sources and does not provide original research or analysis. This limits its depth and credibility.\n",
      "3. The report does not provide enough detail on specific projects, such as the Raptor engine or Starship spacecraft, which are crucial to SpaceX's future plans.\n",
      "4. The report does not address potential risks or challenges associated with SpaceX's ambitious plans, such as the high costs of launch services or the environmental impact of satellite constellations.\n",
      "\n",
      "**Opportunities:**\n",
      "\n",
      "1. The report could benefit from more in-depth analysis and original research to provide a more comprehensive understanding of SpaceX's challenges and opportunities.\n",
      "2. Additional context and background information on the space industry and the challenges faced by private space companies would enhance the report's credibility.\n",
      "3. The report could include more visuals, such as images and videos, to illustrate SpaceX's achievements and challenges.\n",
      "\n",
      "**Threats:**\n",
      "\n",
      "1. The report relies heavily on secondary sources, which may not provide accurate or up-to-date information. This limits the report's credibility and reliability.\n",
      "2. The report does not address potential risks or challenges associated with SpaceX's plans, which could be significant and impact the company's future success.\n",
      "3. The report's structure and organization may be improved to make it more accessible and easy to follow, but this would require significant rewriting and editing.\n",
      "\n",
      "Overall, the report \"SpaceX: A Comprehensive Report\" provides a solid overview of SpaceX's history, mission, and achievements, but lacks depth, context, and original research. Further improvement is needed to increase the report's credibility and reliability.\n"
     ]
    }
   ],
   "source": [
    "## Checking the generated outline\n",
    "print(final_state['score'])"
   ]
  },
  {
   "cell_type": "code",
   "execution_count": null,
   "id": "01ccfbb7",
   "metadata": {},
   "outputs": [],
   "source": []
  }
 ],
 "metadata": {
  "kernelspec": {
   "display_name": "myenv",
   "language": "python",
   "name": "python3"
  },
  "language_info": {
   "codemirror_mode": {
    "name": "ipython",
    "version": 3
   },
   "file_extension": ".py",
   "mimetype": "text/x-python",
   "name": "python",
   "nbconvert_exporter": "python",
   "pygments_lexer": "ipython3",
   "version": "3.11.9"
  }
 },
 "nbformat": 4,
 "nbformat_minor": 5
}
